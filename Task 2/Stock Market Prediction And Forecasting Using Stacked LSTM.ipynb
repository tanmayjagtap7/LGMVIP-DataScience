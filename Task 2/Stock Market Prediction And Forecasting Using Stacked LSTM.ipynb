{
 "cells": [
  {
   "cell_type": "markdown",
   "metadata": {},
   "source": [
    "Tanmay Jagtap  \n",
    "LGMVIP DataScience  \n",
    "Task 2 - Stock Market Prediction And Forecasting Using Stacked LSTM"
   ]
  },
  {
   "cell_type": "markdown",
   "metadata": {},
   "source": [
    "# Importing Libraries"
   ]
  },
  {
   "cell_type": "code",
   "execution_count": 1,
   "metadata": {},
   "outputs": [],
   "source": [
    "import pandas as pd\n",
    "import numpy as np\n",
    "import matplotlib.pyplot as plt\n",
    "import seaborn as sns"
   ]
  },
  {
   "cell_type": "code",
   "execution_count": 2,
   "metadata": {},
   "outputs": [],
   "source": [
    "#Loading the Dataset\n",
    "df = pd.read_csv(\"NSE-TATAGLOBAL.csv\")"
   ]
  },
  {
   "cell_type": "code",
   "execution_count": 3,
   "metadata": {},
   "outputs": [
    {
     "data": {
      "text/html": [
       "<div>\n",
       "<style scoped>\n",
       "    .dataframe tbody tr th:only-of-type {\n",
       "        vertical-align: middle;\n",
       "    }\n",
       "\n",
       "    .dataframe tbody tr th {\n",
       "        vertical-align: top;\n",
       "    }\n",
       "\n",
       "    .dataframe thead th {\n",
       "        text-align: right;\n",
       "    }\n",
       "</style>\n",
       "<table border=\"1\" class=\"dataframe\">\n",
       "  <thead>\n",
       "    <tr style=\"text-align: right;\">\n",
       "      <th></th>\n",
       "      <th>Date</th>\n",
       "      <th>Open</th>\n",
       "      <th>High</th>\n",
       "      <th>Low</th>\n",
       "      <th>Last</th>\n",
       "      <th>Close</th>\n",
       "      <th>Total Trade Quantity</th>\n",
       "      <th>Turnover (Lacs)</th>\n",
       "    </tr>\n",
       "  </thead>\n",
       "  <tbody>\n",
       "    <tr>\n",
       "      <th>0</th>\n",
       "      <td>2018-09-28</td>\n",
       "      <td>234.05</td>\n",
       "      <td>235.95</td>\n",
       "      <td>230.20</td>\n",
       "      <td>233.50</td>\n",
       "      <td>233.75</td>\n",
       "      <td>3069914</td>\n",
       "      <td>7162.35</td>\n",
       "    </tr>\n",
       "    <tr>\n",
       "      <th>1</th>\n",
       "      <td>2018-09-27</td>\n",
       "      <td>234.55</td>\n",
       "      <td>236.80</td>\n",
       "      <td>231.10</td>\n",
       "      <td>233.80</td>\n",
       "      <td>233.25</td>\n",
       "      <td>5082859</td>\n",
       "      <td>11859.95</td>\n",
       "    </tr>\n",
       "    <tr>\n",
       "      <th>2</th>\n",
       "      <td>2018-09-26</td>\n",
       "      <td>240.00</td>\n",
       "      <td>240.00</td>\n",
       "      <td>232.50</td>\n",
       "      <td>235.00</td>\n",
       "      <td>234.25</td>\n",
       "      <td>2240909</td>\n",
       "      <td>5248.60</td>\n",
       "    </tr>\n",
       "    <tr>\n",
       "      <th>3</th>\n",
       "      <td>2018-09-25</td>\n",
       "      <td>233.30</td>\n",
       "      <td>236.75</td>\n",
       "      <td>232.00</td>\n",
       "      <td>236.25</td>\n",
       "      <td>236.10</td>\n",
       "      <td>2349368</td>\n",
       "      <td>5503.90</td>\n",
       "    </tr>\n",
       "    <tr>\n",
       "      <th>4</th>\n",
       "      <td>2018-09-24</td>\n",
       "      <td>233.55</td>\n",
       "      <td>239.20</td>\n",
       "      <td>230.75</td>\n",
       "      <td>234.00</td>\n",
       "      <td>233.30</td>\n",
       "      <td>3423509</td>\n",
       "      <td>7999.55</td>\n",
       "    </tr>\n",
       "  </tbody>\n",
       "</table>\n",
       "</div>"
      ],
      "text/plain": [
       "         Date    Open    High     Low    Last   Close  Total Trade Quantity  \\\n",
       "0  2018-09-28  234.05  235.95  230.20  233.50  233.75               3069914   \n",
       "1  2018-09-27  234.55  236.80  231.10  233.80  233.25               5082859   \n",
       "2  2018-09-26  240.00  240.00  232.50  235.00  234.25               2240909   \n",
       "3  2018-09-25  233.30  236.75  232.00  236.25  236.10               2349368   \n",
       "4  2018-09-24  233.55  239.20  230.75  234.00  233.30               3423509   \n",
       "\n",
       "   Turnover (Lacs)  \n",
       "0          7162.35  \n",
       "1         11859.95  \n",
       "2          5248.60  \n",
       "3          5503.90  \n",
       "4          7999.55  "
      ]
     },
     "execution_count": 3,
     "metadata": {},
     "output_type": "execute_result"
    }
   ],
   "source": [
    "df.head()"
   ]
  },
  {
   "cell_type": "markdown",
   "metadata": {},
   "source": [
    "# Short-Analysis"
   ]
  },
  {
   "cell_type": "code",
   "execution_count": 4,
   "metadata": {},
   "outputs": [
    {
     "data": {
      "text/plain": [
       "(2035, 8)"
      ]
     },
     "execution_count": 4,
     "metadata": {},
     "output_type": "execute_result"
    }
   ],
   "source": [
    "df.shape"
   ]
  },
  {
   "cell_type": "code",
   "execution_count": 5,
   "metadata": {},
   "outputs": [
    {
     "data": {
      "text/plain": [
       "Index(['Date', 'Open', 'High', 'Low', 'Last', 'Close', 'Total Trade Quantity',\n",
       "       'Turnover (Lacs)'],\n",
       "      dtype='object')"
      ]
     },
     "execution_count": 5,
     "metadata": {},
     "output_type": "execute_result"
    }
   ],
   "source": [
    "df.columns"
   ]
  },
  {
   "cell_type": "code",
   "execution_count": 6,
   "metadata": {
    "scrolled": true
   },
   "outputs": [
    {
     "name": "stdout",
     "output_type": "stream",
     "text": [
      "<class 'pandas.core.frame.DataFrame'>\n",
      "RangeIndex: 2035 entries, 0 to 2034\n",
      "Data columns (total 8 columns):\n",
      " #   Column                Non-Null Count  Dtype  \n",
      "---  ------                --------------  -----  \n",
      " 0   Date                  2035 non-null   object \n",
      " 1   Open                  2035 non-null   float64\n",
      " 2   High                  2035 non-null   float64\n",
      " 3   Low                   2035 non-null   float64\n",
      " 4   Last                  2035 non-null   float64\n",
      " 5   Close                 2035 non-null   float64\n",
      " 6   Total Trade Quantity  2035 non-null   int64  \n",
      " 7   Turnover (Lacs)       2035 non-null   float64\n",
      "dtypes: float64(6), int64(1), object(1)\n",
      "memory usage: 127.3+ KB\n"
     ]
    }
   ],
   "source": [
    "df.info()"
   ]
  },
  {
   "cell_type": "code",
   "execution_count": 7,
   "metadata": {},
   "outputs": [
    {
     "data": {
      "text/html": [
       "<div>\n",
       "<style scoped>\n",
       "    .dataframe tbody tr th:only-of-type {\n",
       "        vertical-align: middle;\n",
       "    }\n",
       "\n",
       "    .dataframe tbody tr th {\n",
       "        vertical-align: top;\n",
       "    }\n",
       "\n",
       "    .dataframe thead th {\n",
       "        text-align: right;\n",
       "    }\n",
       "</style>\n",
       "<table border=\"1\" class=\"dataframe\">\n",
       "  <thead>\n",
       "    <tr style=\"text-align: right;\">\n",
       "      <th></th>\n",
       "      <th>Open</th>\n",
       "      <th>High</th>\n",
       "      <th>Low</th>\n",
       "      <th>Last</th>\n",
       "      <th>Close</th>\n",
       "      <th>Total Trade Quantity</th>\n",
       "      <th>Turnover (Lacs)</th>\n",
       "    </tr>\n",
       "  </thead>\n",
       "  <tbody>\n",
       "    <tr>\n",
       "      <th>count</th>\n",
       "      <td>2035.000000</td>\n",
       "      <td>2035.000000</td>\n",
       "      <td>2035.000000</td>\n",
       "      <td>2035.000000</td>\n",
       "      <td>2035.00000</td>\n",
       "      <td>2.035000e+03</td>\n",
       "      <td>2035.000000</td>\n",
       "    </tr>\n",
       "    <tr>\n",
       "      <th>mean</th>\n",
       "      <td>149.713735</td>\n",
       "      <td>151.992826</td>\n",
       "      <td>147.293931</td>\n",
       "      <td>149.474251</td>\n",
       "      <td>149.45027</td>\n",
       "      <td>2.335681e+06</td>\n",
       "      <td>3899.980565</td>\n",
       "    </tr>\n",
       "    <tr>\n",
       "      <th>std</th>\n",
       "      <td>48.664509</td>\n",
       "      <td>49.413109</td>\n",
       "      <td>47.931958</td>\n",
       "      <td>48.732570</td>\n",
       "      <td>48.71204</td>\n",
       "      <td>2.091778e+06</td>\n",
       "      <td>4570.767877</td>\n",
       "    </tr>\n",
       "    <tr>\n",
       "      <th>min</th>\n",
       "      <td>81.100000</td>\n",
       "      <td>82.800000</td>\n",
       "      <td>80.000000</td>\n",
       "      <td>81.000000</td>\n",
       "      <td>80.95000</td>\n",
       "      <td>3.961000e+04</td>\n",
       "      <td>37.040000</td>\n",
       "    </tr>\n",
       "    <tr>\n",
       "      <th>25%</th>\n",
       "      <td>120.025000</td>\n",
       "      <td>122.100000</td>\n",
       "      <td>118.300000</td>\n",
       "      <td>120.075000</td>\n",
       "      <td>120.05000</td>\n",
       "      <td>1.146444e+06</td>\n",
       "      <td>1427.460000</td>\n",
       "    </tr>\n",
       "    <tr>\n",
       "      <th>50%</th>\n",
       "      <td>141.500000</td>\n",
       "      <td>143.400000</td>\n",
       "      <td>139.600000</td>\n",
       "      <td>141.100000</td>\n",
       "      <td>141.25000</td>\n",
       "      <td>1.783456e+06</td>\n",
       "      <td>2512.030000</td>\n",
       "    </tr>\n",
       "    <tr>\n",
       "      <th>75%</th>\n",
       "      <td>157.175000</td>\n",
       "      <td>159.400000</td>\n",
       "      <td>155.150000</td>\n",
       "      <td>156.925000</td>\n",
       "      <td>156.90000</td>\n",
       "      <td>2.813594e+06</td>\n",
       "      <td>4539.015000</td>\n",
       "    </tr>\n",
       "    <tr>\n",
       "      <th>max</th>\n",
       "      <td>327.700000</td>\n",
       "      <td>328.750000</td>\n",
       "      <td>321.650000</td>\n",
       "      <td>325.950000</td>\n",
       "      <td>325.75000</td>\n",
       "      <td>2.919102e+07</td>\n",
       "      <td>55755.080000</td>\n",
       "    </tr>\n",
       "  </tbody>\n",
       "</table>\n",
       "</div>"
      ],
      "text/plain": [
       "              Open         High          Low         Last       Close  \\\n",
       "count  2035.000000  2035.000000  2035.000000  2035.000000  2035.00000   \n",
       "mean    149.713735   151.992826   147.293931   149.474251   149.45027   \n",
       "std      48.664509    49.413109    47.931958    48.732570    48.71204   \n",
       "min      81.100000    82.800000    80.000000    81.000000    80.95000   \n",
       "25%     120.025000   122.100000   118.300000   120.075000   120.05000   \n",
       "50%     141.500000   143.400000   139.600000   141.100000   141.25000   \n",
       "75%     157.175000   159.400000   155.150000   156.925000   156.90000   \n",
       "max     327.700000   328.750000   321.650000   325.950000   325.75000   \n",
       "\n",
       "       Total Trade Quantity  Turnover (Lacs)  \n",
       "count          2.035000e+03      2035.000000  \n",
       "mean           2.335681e+06      3899.980565  \n",
       "std            2.091778e+06      4570.767877  \n",
       "min            3.961000e+04        37.040000  \n",
       "25%            1.146444e+06      1427.460000  \n",
       "50%            1.783456e+06      2512.030000  \n",
       "75%            2.813594e+06      4539.015000  \n",
       "max            2.919102e+07     55755.080000  "
      ]
     },
     "execution_count": 7,
     "metadata": {},
     "output_type": "execute_result"
    }
   ],
   "source": [
    "df.describe()"
   ]
  },
  {
   "cell_type": "code",
   "execution_count": 8,
   "metadata": {},
   "outputs": [
    {
     "data": {
      "text/html": [
       "<div>\n",
       "<style scoped>\n",
       "    .dataframe tbody tr th:only-of-type {\n",
       "        vertical-align: middle;\n",
       "    }\n",
       "\n",
       "    .dataframe tbody tr th {\n",
       "        vertical-align: top;\n",
       "    }\n",
       "\n",
       "    .dataframe thead th {\n",
       "        text-align: right;\n",
       "    }\n",
       "</style>\n",
       "<table border=\"1\" class=\"dataframe\">\n",
       "  <thead>\n",
       "    <tr style=\"text-align: right;\">\n",
       "      <th></th>\n",
       "      <th>Open</th>\n",
       "      <th>High</th>\n",
       "      <th>Low</th>\n",
       "      <th>Last</th>\n",
       "      <th>Close</th>\n",
       "      <th>Total Trade Quantity</th>\n",
       "      <th>Turnover (Lacs)</th>\n",
       "    </tr>\n",
       "  </thead>\n",
       "  <tbody>\n",
       "    <tr>\n",
       "      <th>Open</th>\n",
       "      <td>1.000000</td>\n",
       "      <td>0.999015</td>\n",
       "      <td>0.998825</td>\n",
       "      <td>0.997781</td>\n",
       "      <td>0.997840</td>\n",
       "      <td>0.385951</td>\n",
       "      <td>0.612877</td>\n",
       "    </tr>\n",
       "    <tr>\n",
       "      <th>High</th>\n",
       "      <td>0.999015</td>\n",
       "      <td>1.000000</td>\n",
       "      <td>0.998773</td>\n",
       "      <td>0.999155</td>\n",
       "      <td>0.999194</td>\n",
       "      <td>0.406405</td>\n",
       "      <td>0.630589</td>\n",
       "    </tr>\n",
       "    <tr>\n",
       "      <th>Low</th>\n",
       "      <td>0.998825</td>\n",
       "      <td>0.998773</td>\n",
       "      <td>1.000000</td>\n",
       "      <td>0.999051</td>\n",
       "      <td>0.999119</td>\n",
       "      <td>0.380621</td>\n",
       "      <td>0.608502</td>\n",
       "    </tr>\n",
       "    <tr>\n",
       "      <th>Last</th>\n",
       "      <td>0.997781</td>\n",
       "      <td>0.999155</td>\n",
       "      <td>0.999051</td>\n",
       "      <td>1.000000</td>\n",
       "      <td>0.999961</td>\n",
       "      <td>0.399328</td>\n",
       "      <td>0.624584</td>\n",
       "    </tr>\n",
       "    <tr>\n",
       "      <th>Close</th>\n",
       "      <td>0.997840</td>\n",
       "      <td>0.999194</td>\n",
       "      <td>0.999119</td>\n",
       "      <td>0.999961</td>\n",
       "      <td>1.000000</td>\n",
       "      <td>0.398911</td>\n",
       "      <td>0.624213</td>\n",
       "    </tr>\n",
       "    <tr>\n",
       "      <th>Total Trade Quantity</th>\n",
       "      <td>0.385951</td>\n",
       "      <td>0.406405</td>\n",
       "      <td>0.380621</td>\n",
       "      <td>0.399328</td>\n",
       "      <td>0.398911</td>\n",
       "      <td>1.000000</td>\n",
       "      <td>0.926931</td>\n",
       "    </tr>\n",
       "    <tr>\n",
       "      <th>Turnover (Lacs)</th>\n",
       "      <td>0.612877</td>\n",
       "      <td>0.630589</td>\n",
       "      <td>0.608502</td>\n",
       "      <td>0.624584</td>\n",
       "      <td>0.624213</td>\n",
       "      <td>0.926931</td>\n",
       "      <td>1.000000</td>\n",
       "    </tr>\n",
       "  </tbody>\n",
       "</table>\n",
       "</div>"
      ],
      "text/plain": [
       "                          Open      High       Low      Last     Close  \\\n",
       "Open                  1.000000  0.999015  0.998825  0.997781  0.997840   \n",
       "High                  0.999015  1.000000  0.998773  0.999155  0.999194   \n",
       "Low                   0.998825  0.998773  1.000000  0.999051  0.999119   \n",
       "Last                  0.997781  0.999155  0.999051  1.000000  0.999961   \n",
       "Close                 0.997840  0.999194  0.999119  0.999961  1.000000   \n",
       "Total Trade Quantity  0.385951  0.406405  0.380621  0.399328  0.398911   \n",
       "Turnover (Lacs)       0.612877  0.630589  0.608502  0.624584  0.624213   \n",
       "\n",
       "                      Total Trade Quantity  Turnover (Lacs)  \n",
       "Open                              0.385951         0.612877  \n",
       "High                              0.406405         0.630589  \n",
       "Low                               0.380621         0.608502  \n",
       "Last                              0.399328         0.624584  \n",
       "Close                             0.398911         0.624213  \n",
       "Total Trade Quantity              1.000000         0.926931  \n",
       "Turnover (Lacs)                   0.926931         1.000000  "
      ]
     },
     "execution_count": 8,
     "metadata": {},
     "output_type": "execute_result"
    }
   ],
   "source": [
    "df.corr()"
   ]
  },
  {
   "cell_type": "code",
   "execution_count": 9,
   "metadata": {},
   "outputs": [
    {
     "data": {
      "text/plain": [
       "Date                    0\n",
       "Open                    0\n",
       "High                    0\n",
       "Low                     0\n",
       "Last                    0\n",
       "Close                   0\n",
       "Total Trade Quantity    0\n",
       "Turnover (Lacs)         0\n",
       "dtype: int64"
      ]
     },
     "execution_count": 9,
     "metadata": {},
     "output_type": "execute_result"
    }
   ],
   "source": [
    "df.isnull().sum()"
   ]
  },
  {
   "cell_type": "code",
   "execution_count": 10,
   "metadata": {},
   "outputs": [
    {
     "data": {
      "text/plain": [
       "0    233.75\n",
       "1    233.25\n",
       "2    234.25\n",
       "3    236.10\n",
       "4    233.30\n",
       "Name: Close, dtype: float64"
      ]
     },
     "execution_count": 10,
     "metadata": {},
     "output_type": "execute_result"
    }
   ],
   "source": [
    "df1=df.reset_index()['Close']\n",
    "df1.head()"
   ]
  },
  {
   "cell_type": "markdown",
   "metadata": {},
   "source": [
    "# Data Visualization"
   ]
  },
  {
   "cell_type": "code",
   "execution_count": 11,
   "metadata": {},
   "outputs": [
    {
     "data": {
      "text/plain": [
       "[<matplotlib.lines.Line2D at 0x1ba2ff364f0>]"
      ]
     },
     "execution_count": 11,
     "metadata": {},
     "output_type": "execute_result"
    },
    {
     "data": {
      "image/png": "[encoded data removed]",
      "text/plain": [
       "<Figure size 432x288 with 1 Axes>"
      ]
     },
     "metadata": {
      "needs_background": "light"
     },
     "output_type": "display_data"
    }
   ],
   "source": [
    "import matplotlib.pyplot as plt\n",
    "plt.plot(df1)"
   ]
  },
  {
   "cell_type": "code",
   "execution_count": 12,
   "metadata": {
    "scrolled": true
   },
   "outputs": [
    {
     "data": {
      "image/png": "[encoded data removed]",
      "text/plain": [
       "<Figure size 1080x576 with 6 Axes>"
      ]
     },
     "metadata": {
      "needs_background": "light"
     },
     "output_type": "display_data"
    }
   ],
   "source": [
    "#The figure below show the graph for different parameters like Open, High,etc w.r.t. Time\n",
    "figure,axis = plt.subplots(2,3,figsize=(15,8))\n",
    "cols = list(df.columns[1:])\n",
    "cols.remove('Close')\n",
    "k=0\n",
    "for i in range(2):\n",
    "    for j in range(3):\n",
    "        axis[i,j].plot(df[cols[k]])\n",
    "        axis[i,j].set_title(cols[k])\n",
    "        k+=1\n",
    "plt.show()"
   ]
  },
  {
   "cell_type": "markdown",
   "metadata": {},
   "source": [
    "# Data Preprocessing"
   ]
  },
  {
   "cell_type": "code",
   "execution_count": 13,
   "metadata": {},
   "outputs": [
    {
     "data": {
      "text/plain": [
       "['Open', 'High', 'Low', 'Total Trade Quantity', 'Turnover (Lacs)']"
      ]
     },
     "execution_count": 13,
     "metadata": {},
     "output_type": "execute_result"
    }
   ],
   "source": [
    "#Selecting the parameters which will be considered for training the model\n",
    "selected_feat = ['Open','High','Low','Total Trade Quantity','Turnover (Lacs)']\n",
    "selected_feat"
   ]
  },
  {
   "cell_type": "markdown",
   "metadata": {},
   "source": [
    "Using MinMaxScaler to scale the features in range of [0,1] as LSTM gets affected by large values"
   ]
  },
  {
   "cell_type": "code",
   "execution_count": 14,
   "metadata": {
    "scrolled": true
   },
   "outputs": [
    {
     "data": {
      "text/html": [
       "<div>\n",
       "<style scoped>\n",
       "    .dataframe tbody tr th:only-of-type {\n",
       "        vertical-align: middle;\n",
       "    }\n",
       "\n",
       "    .dataframe tbody tr th {\n",
       "        vertical-align: top;\n",
       "    }\n",
       "\n",
       "    .dataframe thead th {\n",
       "        text-align: right;\n",
       "    }\n",
       "</style>\n",
       "<table border=\"1\" class=\"dataframe\">\n",
       "  <thead>\n",
       "    <tr style=\"text-align: right;\">\n",
       "      <th></th>\n",
       "      <th>Open</th>\n",
       "      <th>High</th>\n",
       "      <th>Low</th>\n",
       "      <th>Total Trade Quantity</th>\n",
       "      <th>Turnover (Lacs)</th>\n",
       "    </tr>\n",
       "  </thead>\n",
       "  <tbody>\n",
       "    <tr>\n",
       "      <th>0</th>\n",
       "      <td>0.620235</td>\n",
       "      <td>0.622688</td>\n",
       "      <td>0.621560</td>\n",
       "      <td>0.103951</td>\n",
       "      <td>0.127882</td>\n",
       "    </tr>\n",
       "    <tr>\n",
       "      <th>1</th>\n",
       "      <td>0.622263</td>\n",
       "      <td>0.626144</td>\n",
       "      <td>0.625285</td>\n",
       "      <td>0.173002</td>\n",
       "      <td>0.212192</td>\n",
       "    </tr>\n",
       "    <tr>\n",
       "      <th>2</th>\n",
       "      <td>0.644363</td>\n",
       "      <td>0.639154</td>\n",
       "      <td>0.631078</td>\n",
       "      <td>0.075513</td>\n",
       "      <td>0.093535</td>\n",
       "    </tr>\n",
       "    <tr>\n",
       "      <th>3</th>\n",
       "      <td>0.617194</td>\n",
       "      <td>0.625940</td>\n",
       "      <td>0.629009</td>\n",
       "      <td>0.079233</td>\n",
       "      <td>0.098117</td>\n",
       "    </tr>\n",
       "    <tr>\n",
       "      <th>4</th>\n",
       "      <td>0.618208</td>\n",
       "      <td>0.635902</td>\n",
       "      <td>0.623836</td>\n",
       "      <td>0.116080</td>\n",
       "      <td>0.142907</td>\n",
       "    </tr>\n",
       "  </tbody>\n",
       "</table>\n",
       "</div>"
      ],
      "text/plain": [
       "       Open      High       Low  Total Trade Quantity  Turnover (Lacs)\n",
       "0  0.620235  0.622688  0.621560              0.103951         0.127882\n",
       "1  0.622263  0.626144  0.625285              0.173002         0.212192\n",
       "2  0.644363  0.639154  0.631078              0.075513         0.093535\n",
       "3  0.617194  0.625940  0.629009              0.079233         0.098117\n",
       "4  0.618208  0.635902  0.623836              0.116080         0.142907"
      ]
     },
     "execution_count": 14,
     "metadata": {},
     "output_type": "execute_result"
    }
   ],
   "source": [
    "from sklearn.preprocessing import MinMaxScaler\n",
    "scaler1 = MinMaxScaler(feature_range=(0,1))\n",
    "df1 = scaler1.fit_transform(df[selected_feat])\n",
    "df1 = pd.DataFrame(df1,columns=selected_feat)\n",
    "df1.head()"
   ]
  },
  {
   "cell_type": "code",
   "execution_count": 15,
   "metadata": {
    "scrolled": false
   },
   "outputs": [
    {
     "data": {
      "text/html": [
       "<div>\n",
       "<style scoped>\n",
       "    .dataframe tbody tr th:only-of-type {\n",
       "        vertical-align: middle;\n",
       "    }\n",
       "\n",
       "    .dataframe tbody tr th {\n",
       "        vertical-align: top;\n",
       "    }\n",
       "\n",
       "    .dataframe thead th {\n",
       "        text-align: right;\n",
       "    }\n",
       "</style>\n",
       "<table border=\"1\" class=\"dataframe\">\n",
       "  <thead>\n",
       "    <tr style=\"text-align: right;\">\n",
       "      <th></th>\n",
       "      <th>Close</th>\n",
       "    </tr>\n",
       "  </thead>\n",
       "  <tbody>\n",
       "    <tr>\n",
       "      <th>0</th>\n",
       "      <td>0.624183</td>\n",
       "    </tr>\n",
       "    <tr>\n",
       "      <th>1</th>\n",
       "      <td>0.622141</td>\n",
       "    </tr>\n",
       "    <tr>\n",
       "      <th>2</th>\n",
       "      <td>0.626225</td>\n",
       "    </tr>\n",
       "    <tr>\n",
       "      <th>3</th>\n",
       "      <td>0.633783</td>\n",
       "    </tr>\n",
       "    <tr>\n",
       "      <th>4</th>\n",
       "      <td>0.622345</td>\n",
       "    </tr>\n",
       "  </tbody>\n",
       "</table>\n",
       "</div>"
      ],
      "text/plain": [
       "      Close\n",
       "0  0.624183\n",
       "1  0.622141\n",
       "2  0.626225\n",
       "3  0.633783\n",
       "4  0.622345"
      ]
     },
     "execution_count": 15,
     "metadata": {},
     "output_type": "execute_result"
    }
   ],
   "source": [
    "scaler2 = MinMaxScaler(feature_range=(0,1))\n",
    "df2 = scaler2.fit_transform(np.array(df['Close']).reshape(-1,1))\n",
    "df2 = pd.DataFrame(df2,columns=['Close'])\n",
    "df2.head()"
   ]
  },
  {
   "cell_type": "markdown",
   "metadata": {},
   "source": [
    "Using TimeSeriesSplit to split the data into training and test data"
   ]
  },
  {
   "cell_type": "code",
   "execution_count": 16,
   "metadata": {},
   "outputs": [],
   "source": [
    "from sklearn.model_selection import TimeSeriesSplit\n",
    "tss = TimeSeriesSplit(n_splits = 15)\n",
    "for train_index, test_index in tss.split(df1):\n",
    "        X_train, X_test = df1[:len(train_index)], df1[len(train_index): (len(train_index)+len(test_index))]\n",
    "        y_train, y_test = df2[:len(train_index)].values.ravel(), df2[len(train_index): (len(train_index)+len(test_index))].values.ravel()"
   ]
  },
  {
   "cell_type": "code",
   "execution_count": 17,
   "metadata": {},
   "outputs": [
    {
     "data": {
      "text/plain": [
       "((1908, 5), (127, 5))"
      ]
     },
     "execution_count": 17,
     "metadata": {},
     "output_type": "execute_result"
    }
   ],
   "source": [
    "Xtrain = np.array(X_train)\n",
    "Xtest = np.array(X_test)\n",
    "X_train.shape,X_test.shape"
   ]
  },
  {
   "cell_type": "code",
   "execution_count": 18,
   "metadata": {},
   "outputs": [
    {
     "data": {
      "text/plain": [
       "((1908, 1, 5), (127, 1, 5))"
      ]
     },
     "execution_count": 18,
     "metadata": {},
     "output_type": "execute_result"
    }
   ],
   "source": [
    "X_train = Xtrain.reshape(X_train.shape[0],1,X_train.shape[1])\n",
    "X_test = Xtest.reshape(X_test.shape[0],1,X_test.shape[1])\n",
    "X_train.shape,X_test.shape"
   ]
  },
  {
   "cell_type": "markdown",
   "metadata": {},
   "source": [
    "# Training Model Using LSTM"
   ]
  },
  {
   "cell_type": "code",
   "execution_count": 19,
   "metadata": {},
   "outputs": [],
   "source": [
    "#Importing the Libraries for model training\n",
    "from keras.models import Sequential\n",
    "from keras.layers import Dense\n",
    "from keras.layers import LSTM"
   ]
  },
  {
   "cell_type": "code",
   "execution_count": 20,
   "metadata": {},
   "outputs": [],
   "source": [
    "#Building the Model\n",
    "model = Sequential()\n",
    "model.add(LSTM(20, return_sequences = False, input_shape = (1,Xtrain.shape[1])))\n",
    "model.add(Dense(1))\n",
    "model.compile(loss = 'mean_squared_error', optimizer = 'adam')"
   ]
  },
  {
   "cell_type": "code",
   "execution_count": 21,
   "metadata": {
    "scrolled": true
   },
   "outputs": [
    {
     "name": "stdout",
     "output_type": "stream",
     "text": [
      "Model: \"sequential\"\n",
      "_________________________________________________________________\n",
      "Layer (type)                 Output Shape              Param #   \n",
      "=================================================================\n",
      "lstm (LSTM)                  (None, 20)                2080      \n",
      "_________________________________________________________________\n",
      "dense (Dense)                (None, 1)                 21        \n",
      "=================================================================\n",
      "Total params: 2,101\n",
      "Trainable params: 2,101\n",
      "Non-trainable params: 0\n",
      "_________________________________________________________________\n"
     ]
    }
   ],
   "source": [
    "model.summary()"
   ]
  },
  {
   "cell_type": "code",
   "execution_count": 22,
   "metadata": {
    "scrolled": true
   },
   "outputs": [
    {
     "name": "stdout",
     "output_type": "stream",
     "text": [
      "Epoch 1/100\n",
      "30/30 [==============================] - 5s 3ms/step - loss: 0.0709\n",
      "Epoch 2/100\n",
      "30/30 [==============================] - 0s 3ms/step - loss: 0.0259\n",
      "Epoch 3/100\n",
      "30/30 [==============================] - 0s 3ms/step - loss: 0.0097\n",
      "Epoch 4/100\n",
      "30/30 [==============================] - 0s 3ms/step - loss: 0.0064\n",
      "Epoch 5/100\n",
      "30/30 [==============================] - 0s 3ms/step - loss: 0.0044\n",
      "Epoch 6/100\n",
      "30/30 [==============================] - 0s 3ms/step - loss: 0.0030\n",
      "Epoch 7/100\n",
      "30/30 [==============================] - 0s 3ms/step - loss: 0.0019\n",
      "Epoch 8/100\n",
      "30/30 [==============================] - 0s 3ms/step - loss: 0.0012\n",
      "Epoch 9/100\n",
      "30/30 [==============================] - 0s 3ms/step - loss: 7.4254e-04\n",
      "Epoch 10/100\n",
      "30/30 [==============================] - 0s 3ms/step - loss: 5.1438e-04\n",
      "Epoch 11/100\n",
      "30/30 [==============================] - 0s 3ms/step - loss: 3.9273e-04\n",
      "Epoch 12/100\n",
      "30/30 [==============================] - 0s 3ms/step - loss: 3.2439e-04\n",
      "Epoch 13/100\n",
      "30/30 [==============================] - 0s 3ms/step - loss: 2.8279e-04\n",
      "Epoch 14/100\n",
      "30/30 [==============================] - 0s 4ms/step - loss: 2.5366e-04\n",
      "Epoch 15/100\n",
      "30/30 [==============================] - 0s 4ms/step - loss: 2.3216e-04\n",
      "Epoch 16/100\n",
      "30/30 [==============================] - 0s 3ms/step - loss: 2.1581e-04\n",
      "Epoch 17/100\n",
      "30/30 [==============================] - 0s 3ms/step - loss: 2.0236e-04\n",
      "Epoch 18/100\n",
      "30/30 [==============================] - 0s 3ms/step - loss: 1.9210e-04\n",
      "Epoch 19/100\n",
      "30/30 [==============================] - 0s 3ms/step - loss: 1.8368e-04\n",
      "Epoch 20/100\n",
      "30/30 [==============================] - 0s 3ms/step - loss: 1.7643e-04\n",
      "Epoch 21/100\n",
      "30/30 [==============================] - 0s 3ms/step - loss: 1.7009e-04\n",
      "Epoch 22/100\n",
      "30/30 [==============================] - 0s 3ms/step - loss: 1.6429e-04\n",
      "Epoch 23/100\n",
      "30/30 [==============================] - 0s 3ms/step - loss: 1.5950e-04\n",
      "Epoch 24/100\n",
      "30/30 [==============================] - 0s 3ms/step - loss: 1.5464e-04\n",
      "Epoch 25/100\n",
      "30/30 [==============================] - 0s 4ms/step - loss: 1.5058e-04\n",
      "Epoch 26/100\n",
      "30/30 [==============================] - 0s 3ms/step - loss: 1.4585e-04\n",
      "Epoch 27/100\n",
      "30/30 [==============================] - 0s 3ms/step - loss: 1.4167e-04\n",
      "Epoch 28/100\n",
      "30/30 [==============================] - 0s 3ms/step - loss: 1.3808e-04\n",
      "Epoch 29/100\n",
      "30/30 [==============================] - 0s 3ms/step - loss: 1.3514e-04\n",
      "Epoch 30/100\n",
      "30/30 [==============================] - 0s 4ms/step - loss: 1.3002e-04\n",
      "Epoch 31/100\n",
      "30/30 [==============================] - 0s 3ms/step - loss: 1.2587e-04\n",
      "Epoch 32/100\n",
      "30/30 [==============================] - 0s 4ms/step - loss: 1.2234e-04\n",
      "Epoch 33/100\n",
      "30/30 [==============================] - 0s 4ms/step - loss: 1.1915e-04\n",
      "Epoch 34/100\n",
      "30/30 [==============================] - 0s 3ms/step - loss: 1.1554e-04\n",
      "Epoch 35/100\n",
      "30/30 [==============================] - 0s 3ms/step - loss: 1.1237e-04\n",
      "Epoch 36/100\n",
      "30/30 [==============================] - 0s 4ms/step - loss: 1.0920e-04\n",
      "Epoch 37/100\n",
      "30/30 [==============================] - 0s 5ms/step - loss: 1.0638e-04\n",
      "Epoch 38/100\n",
      "30/30 [==============================] - 0s 4ms/step - loss: 1.0326e-04\n",
      "Epoch 39/100\n",
      "30/30 [==============================] - 0s 5ms/step - loss: 1.0081e-04\n",
      "Epoch 40/100\n",
      "30/30 [==============================] - 0s 3ms/step - loss: 9.7818e-05\n",
      "Epoch 41/100\n",
      "30/30 [==============================] - 0s 3ms/step - loss: 9.5316e-05\n",
      "Epoch 42/100\n",
      "30/30 [==============================] - 0s 5ms/step - loss: 9.3360e-05\n",
      "Epoch 43/100\n",
      "30/30 [==============================] - 0s 4ms/step - loss: 9.1278e-05\n",
      "Epoch 44/100\n",
      "30/30 [==============================] - 0s 4ms/step - loss: 8.8799e-05\n",
      "Epoch 45/100\n",
      "30/30 [==============================] - 0s 3ms/step - loss: 8.7264e-05\n",
      "Epoch 46/100\n",
      "30/30 [==============================] - 0s 4ms/step - loss: 8.5128e-05\n",
      "Epoch 47/100\n",
      "30/30 [==============================] - 0s 4ms/step - loss: 8.4027e-05\n",
      "Epoch 48/100\n",
      "30/30 [==============================] - 0s 3ms/step - loss: 8.1826e-05\n",
      "Epoch 49/100\n",
      "30/30 [==============================] - 0s 4ms/step - loss: 8.0790e-05\n",
      "Epoch 50/100\n",
      "30/30 [==============================] - 0s 3ms/step - loss: 7.9436e-05\n",
      "Epoch 51/100\n",
      "30/30 [==============================] - 0s 2ms/step - loss: 7.8235e-05\n",
      "Epoch 52/100\n",
      "30/30 [==============================] - 0s 3ms/step - loss: 7.7322e-05\n",
      "Epoch 53/100\n",
      "30/30 [==============================] - 0s 3ms/step - loss: 7.6845e-05\n",
      "Epoch 54/100\n",
      "30/30 [==============================] - 0s 4ms/step - loss: 7.5872e-05\n",
      "Epoch 55/100\n",
      "30/30 [==============================] - 0s 2ms/step - loss: 7.4641e-05\n",
      "Epoch 56/100\n",
      "30/30 [==============================] - 0s 3ms/step - loss: 7.4054e-05\n",
      "Epoch 57/100\n",
      "30/30 [==============================] - 0s 3ms/step - loss: 7.3250e-05\n",
      "Epoch 58/100\n",
      "30/30 [==============================] - 0s 4ms/step - loss: 7.2745e-05\n",
      "Epoch 59/100\n",
      "30/30 [==============================] - 0s 3ms/step - loss: 7.2360e-05\n",
      "Epoch 60/100\n",
      "30/30 [==============================] - 0s 3ms/step - loss: 7.2428e-05\n",
      "Epoch 61/100\n",
      "30/30 [==============================] - 0s 3ms/step - loss: 7.1538e-05\n",
      "Epoch 62/100\n",
      "30/30 [==============================] - 0s 3ms/step - loss: 7.1173e-05\n",
      "Epoch 63/100\n",
      "30/30 [==============================] - 0s 3ms/step - loss: 7.0762e-05\n",
      "Epoch 64/100\n",
      "30/30 [==============================] - 0s 4ms/step - loss: 7.0724e-05\n",
      "Epoch 65/100\n",
      "30/30 [==============================] - 0s 4ms/step - loss: 7.0492e-05\n",
      "Epoch 66/100\n",
      "30/30 [==============================] - 0s 4ms/step - loss: 7.0693e-05\n",
      "Epoch 67/100\n",
      "30/30 [==============================] - 0s 2ms/step - loss: 6.9855e-05\n",
      "Epoch 68/100\n",
      "30/30 [==============================] - 0s 2ms/step - loss: 6.9689e-05\n",
      "Epoch 69/100\n",
      "30/30 [==============================] - 0s 2ms/step - loss: 6.9241e-05\n",
      "Epoch 70/100\n",
      "30/30 [==============================] - 0s 2ms/step - loss: 7.1287e-05\n",
      "Epoch 71/100\n",
      "30/30 [==============================] - 0s 2ms/step - loss: 6.9295e-05\n",
      "Epoch 72/100\n",
      "30/30 [==============================] - 0s 4ms/step - loss: 6.8720e-05\n",
      "Epoch 73/100\n",
      "30/30 [==============================] - 0s 3ms/step - loss: 6.9443e-05\n",
      "Epoch 74/100\n",
      "30/30 [==============================] - 0s 3ms/step - loss: 6.9910e-05\n",
      "Epoch 75/100\n",
      "30/30 [==============================] - 0s 4ms/step - loss: 6.9220e-05\n",
      "Epoch 76/100\n",
      "30/30 [==============================] - 0s 3ms/step - loss: 6.8301e-05\n",
      "Epoch 77/100\n",
      "30/30 [==============================] - 0s 3ms/step - loss: 6.8141e-05\n",
      "Epoch 78/100\n",
      "30/30 [==============================] - 0s 4ms/step - loss: 6.9107e-05\n",
      "Epoch 79/100\n",
      "30/30 [==============================] - 0s 3ms/step - loss: 6.9211e-05\n",
      "Epoch 80/100\n",
      "30/30 [==============================] - 0s 3ms/step - loss: 6.8157e-05\n",
      "Epoch 81/100\n",
      "30/30 [==============================] - 0s 4ms/step - loss: 6.7531e-05\n",
      "Epoch 82/100\n",
      "30/30 [==============================] - 0s 4ms/step - loss: 6.7318e-05\n",
      "Epoch 83/100\n",
      "30/30 [==============================] - 0s 4ms/step - loss: 6.7555e-05\n",
      "Epoch 84/100\n",
      "30/30 [==============================] - 0s 4ms/step - loss: 6.7895e-05\n",
      "Epoch 85/100\n",
      "30/30 [==============================] - 0s 4ms/step - loss: 6.8460e-05\n",
      "Epoch 86/100\n",
      "30/30 [==============================] - 0s 4ms/step - loss: 6.8157e-05\n",
      "Epoch 87/100\n",
      "30/30 [==============================] - 0s 4ms/step - loss: 6.7234e-05\n",
      "Epoch 88/100\n",
      "30/30 [==============================] - 0s 4ms/step - loss: 6.6534e-05\n",
      "Epoch 89/100\n",
      "30/30 [==============================] - 0s 3ms/step - loss: 6.7547e-05\n",
      "Epoch 90/100\n",
      "30/30 [==============================] - 0s 3ms/step - loss: 6.6924e-05\n",
      "Epoch 91/100\n",
      "30/30 [==============================] - 0s 3ms/step - loss: 6.7760e-05\n",
      "Epoch 92/100\n",
      "30/30 [==============================] - 0s 4ms/step - loss: 6.7755e-05\n",
      "Epoch 93/100\n",
      "30/30 [==============================] - 0s 4ms/step - loss: 6.6884e-05\n",
      "Epoch 94/100\n",
      "30/30 [==============================] - 0s 4ms/step - loss: 6.6625e-05\n",
      "Epoch 95/100\n",
      "30/30 [==============================] - 0s 4ms/step - loss: 6.6598e-05\n",
      "Epoch 96/100\n",
      "30/30 [==============================] - 0s 4ms/step - loss: 6.6308e-05\n",
      "Epoch 97/100\n"
     ]
    },
    {
     "name": "stdout",
     "output_type": "stream",
     "text": [
      "30/30 [==============================] - 0s 3ms/step - loss: 6.6119e-05\n",
      "Epoch 98/100\n",
      "30/30 [==============================] - 0s 3ms/step - loss: 6.6088e-05\n",
      "Epoch 99/100\n",
      "30/30 [==============================] - 0s 4ms/step - loss: 6.5784e-05\n",
      "Epoch 100/100\n",
      "30/30 [==============================] - 0s 3ms/step - loss: 6.5567e-05\n"
     ]
    },
    {
     "data": {
      "text/plain": [
       "<tensorflow.python.keras.callbacks.History at 0x1ba388de0d0>"
      ]
     },
     "execution_count": 22,
     "metadata": {},
     "output_type": "execute_result"
    }
   ],
   "source": [
    "model.fit(X_train, y_train, epochs = 100, batch_size = 64, verbose = 1) #training the model"
   ]
  },
  {
   "cell_type": "markdown",
   "metadata": {},
   "source": [
    "# Predicting Data Using LSTM Model"
   ]
  },
  {
   "cell_type": "code",
   "execution_count": 23,
   "metadata": {},
   "outputs": [
    {
     "data": {
      "text/plain": [
       "array([[0.09978551],\n",
       "       [0.10067949],\n",
       "       [0.10282829],\n",
       "       [0.09196389],\n",
       "       [0.0882095 ],\n",
       "       [0.09305089],\n",
       "       [0.10492382],\n",
       "       [0.12020231],\n",
       "       [0.12539224],\n",
       "       [0.12801322],\n",
       "       [0.12843667],\n",
       "       [0.11720541],\n",
       "       [0.11007977],\n",
       "       [0.11517605],\n",
       "       [0.11727554],\n",
       "       [0.11680412],\n",
       "       [0.12545823],\n",
       "       [0.1284951 ],\n",
       "       [0.131004  ],\n",
       "       [0.13862388],\n",
       "       [0.14324524],\n",
       "       [0.1365688 ],\n",
       "       [0.13434246],\n",
       "       [0.13651843],\n",
       "       [0.13188066],\n",
       "       [0.12891343],\n",
       "       [0.11970999],\n",
       "       [0.13276543],\n",
       "       [0.13577153],\n",
       "       [0.13647869],\n",
       "       [0.13390419],\n",
       "       [0.13591237],\n",
       "       [0.1409737 ],\n",
       "       [0.13423927],\n",
       "       [0.12771013],\n",
       "       [0.12681672],\n",
       "       [0.11694169],\n",
       "       [0.13620356],\n",
       "       [0.14759535],\n",
       "       [0.14484309],\n",
       "       [0.1541403 ],\n",
       "       [0.15993436],\n",
       "       [0.1580982 ],\n",
       "       [0.17180258],\n",
       "       [0.17642929],\n",
       "       [0.18660752],\n",
       "       [0.20305344],\n",
       "       [0.19759046],\n",
       "       [0.18220069],\n",
       "       [0.18051092],\n",
       "       [0.18840204],\n",
       "       [0.17521033],\n",
       "       [0.1791129 ],\n",
       "       [0.17854409],\n",
       "       [0.18138757],\n",
       "       [0.1795693 ],\n",
       "       [0.19291306],\n",
       "       [0.18849914],\n",
       "       [0.19092663],\n",
       "       [0.19514783],\n",
       "       [0.1999905 ],\n",
       "       [0.19728667],\n",
       "       [0.19549441],\n",
       "       [0.20082182],\n",
       "       [0.19403456],\n",
       "       [0.2077928 ],\n",
       "       [0.21535528],\n",
       "       [0.20837283],\n",
       "       [0.21145868],\n",
       "       [0.21623875],\n",
       "       [0.21410123],\n",
       "       [0.21645726],\n",
       "       [0.1915457 ],\n",
       "       [0.17985038],\n",
       "       [0.1744379 ],\n",
       "       [0.16651987],\n",
       "       [0.16254045],\n",
       "       [0.16966322],\n",
       "       [0.17362204],\n",
       "       [0.17901714],\n",
       "       [0.17789991],\n",
       "       [0.16605315],\n",
       "       [0.1653186 ],\n",
       "       [0.17223628],\n",
       "       [0.17046979],\n",
       "       [0.17157005],\n",
       "       [0.17120637],\n",
       "       [0.17669122],\n",
       "       [0.18173908],\n",
       "       [0.18724574],\n",
       "       [0.19001321],\n",
       "       [0.18922013],\n",
       "       [0.17923549],\n",
       "       [0.17142858],\n",
       "       [0.16837968],\n",
       "       [0.17106044],\n",
       "       [0.16575822],\n",
       "       [0.1511844 ],\n",
       "       [0.15032022],\n",
       "       [0.15191098],\n",
       "       [0.1503769 ],\n",
       "       [0.14503013],\n",
       "       [0.15115224],\n",
       "       [0.13925123],\n",
       "       [0.12580201],\n",
       "       [0.12273323],\n",
       "       [0.11655626],\n",
       "       [0.12241503],\n",
       "       [0.13336396],\n",
       "       [0.13367982],\n",
       "       [0.12999584],\n",
       "       [0.13265787],\n",
       "       [0.12862436],\n",
       "       [0.12772487],\n",
       "       [0.1311304 ],\n",
       "       [0.14027554],\n",
       "       [0.14837408],\n",
       "       [0.15205802],\n",
       "       [0.14690791],\n",
       "       [0.14383242],\n",
       "       [0.14351562],\n",
       "       [0.15191238],\n",
       "       [0.14249821],\n",
       "       [0.15440044],\n",
       "       [0.16167949],\n",
       "       [0.16042295],\n",
       "       [0.16512972]], dtype=float32)"
      ]
     },
     "execution_count": 23,
     "metadata": {},
     "output_type": "execute_result"
    }
   ],
   "source": [
    "#Predicting the test values using the testing values\n",
    "y_pred = model.predict(X_test)\n",
    "y_pred"
   ]
  },
  {
   "cell_type": "code",
   "execution_count": 24,
   "metadata": {},
   "outputs": [
    {
     "data": {
      "image/png": "[encoded data removed]",
      "text/plain": [
       "<Figure size 432x288 with 1 Axes>"
      ]
     },
     "metadata": {
      "needs_background": "light"
     },
     "output_type": "display_data"
    }
   ],
   "source": [
    "#Comparing the test and predicted values\n",
    "plt.plot(y_test, label = 'Test Value')\n",
    "plt.plot(y_pred, label = 'Predicted value')\n",
    "plt.title('Comparision of Test and Predicted Values')\n",
    "plt.xlabel('Time')\n",
    "plt.ylabel('Price (Rs)')\n",
    "plt.legend()\n",
    "plt.show()"
   ]
  },
  {
   "cell_type": "code",
   "execution_count": 25,
   "metadata": {},
   "outputs": [
    {
     "data": {
      "text/plain": [
       "array([[105.377495],\n",
       "       [105.59634 ],\n",
       "       [106.12237 ],\n",
       "       [103.46276 ],\n",
       "       [102.543686],\n",
       "       [103.72886 ],\n",
       "       [106.63535 ],\n",
       "       [110.37553 ],\n",
       "       [111.64602 ],\n",
       "       [112.287636],\n",
       "       [112.3913  ],\n",
       "       [109.641884],\n",
       "       [107.89753 ],\n",
       "       [109.145096],\n",
       "       [109.65905 ],\n",
       "       [109.54365 ],\n",
       "       [111.66217 ],\n",
       "       [112.4056  ],\n",
       "       [113.01978 ],\n",
       "       [114.885124],\n",
       "       [116.01643 ],\n",
       "       [114.38204 ],\n",
       "       [113.837036],\n",
       "       [114.36971 ],\n",
       "       [113.23438 ],\n",
       "       [112.50801 ],\n",
       "       [110.255005],\n",
       "       [113.45097 ],\n",
       "       [114.18687 ],\n",
       "       [114.359985],\n",
       "       [113.729744],\n",
       "       [114.221344],\n",
       "       [115.46036 ],\n",
       "       [113.81177 ],\n",
       "       [112.21344 ],\n",
       "       [111.994736],\n",
       "       [109.577324],\n",
       "       [114.29263 ],\n",
       "       [117.081345],\n",
       "       [116.407585],\n",
       "       [118.68354 ],\n",
       "       [120.10193 ],\n",
       "       [119.652435],\n",
       "       [123.00727 ],\n",
       "       [124.139885],\n",
       "       [126.63152 ],\n",
       "       [130.65747 ],\n",
       "       [129.32014 ],\n",
       "       [125.55273 ],\n",
       "       [125.13908 ],\n",
       "       [127.07082 ],\n",
       "       [123.841484],\n",
       "       [124.796844],\n",
       "       [124.6576  ],\n",
       "       [125.35367 ],\n",
       "       [124.90857 ],\n",
       "       [128.17511 ],\n",
       "       [127.09459 ],\n",
       "       [127.688835],\n",
       "       [128.72218 ],\n",
       "       [129.90768 ],\n",
       "       [129.24577 ],\n",
       "       [128.80704 ],\n",
       "       [130.11118 ],\n",
       "       [128.44966 ],\n",
       "       [131.81769 ],\n",
       "       [133.66898 ],\n",
       "       [131.95967 ],\n",
       "       [132.71509 ],\n",
       "       [133.88524 ],\n",
       "       [133.36197 ],\n",
       "       [133.93874 ],\n",
       "       [127.84038 ],\n",
       "       [124.97738 ],\n",
       "       [123.65239 ],\n",
       "       [121.71406 ],\n",
       "       [120.7399  ],\n",
       "       [122.48355 ],\n",
       "       [123.45267 ],\n",
       "       [124.77339 ],\n",
       "       [124.49989 ],\n",
       "       [121.59981 ],\n",
       "       [121.41999 ],\n",
       "       [123.113434],\n",
       "       [122.681   ],\n",
       "       [122.95035 ],\n",
       "       [122.86131 ],\n",
       "       [124.20402 ],\n",
       "       [125.43973 ],\n",
       "       [126.78775 ],\n",
       "       [127.46524 ],\n",
       "       [127.27109 ],\n",
       "       [124.82684 ],\n",
       "       [122.91571 ],\n",
       "       [122.16934 ],\n",
       "       [122.8256  ],\n",
       "       [121.52761 ],\n",
       "       [117.95994 ],\n",
       "       [117.74838 ],\n",
       "       [118.1378  ],\n",
       "       [117.76226 ],\n",
       "       [116.45337 ],\n",
       "       [117.952065],\n",
       "       [115.038704],\n",
       "       [111.74633 ],\n",
       "       [110.995094],\n",
       "       [109.48297 ],\n",
       "       [110.9172  ],\n",
       "       [113.597496],\n",
       "       [113.67482 ],\n",
       "       [112.77298 ],\n",
       "       [113.424644],\n",
       "       [112.43724 ],\n",
       "       [112.21705 ],\n",
       "       [113.05072 ],\n",
       "       [115.28945 ],\n",
       "       [117.27197 ],\n",
       "       [118.1738  ],\n",
       "       [116.913055],\n",
       "       [116.16018 ],\n",
       "       [116.08263 ],\n",
       "       [118.138145],\n",
       "       [115.83356 ],\n",
       "       [118.74723 ],\n",
       "       [120.52914 ],\n",
       "       [120.22154 ],\n",
       "       [121.37376 ]], dtype=float32)"
      ]
     },
     "execution_count": 25,
     "metadata": {},
     "output_type": "execute_result"
    }
   ],
   "source": [
    "#Getting the original values using inverse_transform\n",
    "y_pred = scaler2.inverse_transform(y_pred)\n",
    "y_pred"
   ]
  }
 ],
 "metadata": {
  "kernelspec": {
   "display_name": "Python 3 (ipykernel)",
   "language": "python",
   "name": "python3"
  },
  "language_info": {
   "codemirror_mode": {
    "name": "ipython",
    "version": 3
   },
   "file_extension": ".py",
   "mimetype": "text/x-python",
   "name": "python",
   "nbconvert_exporter": "python",
   "pygments_lexer": "ipython3",
   "version": "3.9.7"
  }
 },
 "nbformat": 4,
 "nbformat_minor": 4
}
