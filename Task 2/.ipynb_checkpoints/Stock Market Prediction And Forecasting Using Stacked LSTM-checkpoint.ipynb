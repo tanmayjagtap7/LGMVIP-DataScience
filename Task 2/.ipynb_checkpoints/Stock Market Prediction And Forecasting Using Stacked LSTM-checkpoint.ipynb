{
 "cells": [
  {
   "cell_type": "markdown",
   "metadata": {},
   "source": [
    "Tanmay Jagtap  \n",
    "LGMVIP DataScience  \n",
    "Task 2 - Stock Market Prediction And Forecasting Using Stacked LSTM"
   ]
  },
  {
   "cell_type": "markdown",
   "metadata": {},
   "source": [
    "# Importing Libraries"
   ]
  },
  {
   "cell_type": "code",
   "execution_count": 1,
   "metadata": {},
   "outputs": [],
   "source": [
    "import pandas as pd\n",
    "import numpy as np\n",
    "import matplotlib.pyplot as plt\n",
    "import seaborn as sns"
   ]
  },
  {
   "cell_type": "code",
   "execution_count": 2,
   "metadata": {},
   "outputs": [],
   "source": [
    "#Loading the Dataset\n",
    "df = pd.read_csv(\"NSE-TATAGLOBAL.csv\")"
   ]
  },
  {
   "cell_type": "code",
   "execution_count": 3,
   "metadata": {},
   "outputs": [
    {
     "data": {
      "text/html": [
       "<div>\n",
       "<style scoped>\n",
       "    .dataframe tbody tr th:only-of-type {\n",
       "        vertical-align: middle;\n",
       "    }\n",
       "\n",
       "    .dataframe tbody tr th {\n",
       "        vertical-align: top;\n",
       "    }\n",
       "\n",
       "    .dataframe thead th {\n",
       "        text-align: right;\n",
       "    }\n",
       "</style>\n",
       "<table border=\"1\" class=\"dataframe\">\n",
       "  <thead>\n",
       "    <tr style=\"text-align: right;\">\n",
       "      <th></th>\n",
       "      <th>Date</th>\n",
       "      <th>Open</th>\n",
       "      <th>High</th>\n",
       "      <th>Low</th>\n",
       "      <th>Last</th>\n",
       "      <th>Close</th>\n",
       "      <th>Total Trade Quantity</th>\n",
       "      <th>Turnover (Lacs)</th>\n",
       "    </tr>\n",
       "  </thead>\n",
       "  <tbody>\n",
       "    <tr>\n",
       "      <th>0</th>\n",
       "      <td>2018-09-28</td>\n",
       "      <td>234.05</td>\n",
       "      <td>235.95</td>\n",
       "      <td>230.20</td>\n",
       "      <td>233.50</td>\n",
       "      <td>233.75</td>\n",
       "      <td>3069914</td>\n",
       "      <td>7162.35</td>\n",
       "    </tr>\n",
       "    <tr>\n",
       "      <th>1</th>\n",
       "      <td>2018-09-27</td>\n",
       "      <td>234.55</td>\n",
       "      <td>236.80</td>\n",
       "      <td>231.10</td>\n",
       "      <td>233.80</td>\n",
       "      <td>233.25</td>\n",
       "      <td>5082859</td>\n",
       "      <td>11859.95</td>\n",
       "    </tr>\n",
       "    <tr>\n",
       "      <th>2</th>\n",
       "      <td>2018-09-26</td>\n",
       "      <td>240.00</td>\n",
       "      <td>240.00</td>\n",
       "      <td>232.50</td>\n",
       "      <td>235.00</td>\n",
       "      <td>234.25</td>\n",
       "      <td>2240909</td>\n",
       "      <td>5248.60</td>\n",
       "    </tr>\n",
       "    <tr>\n",
       "      <th>3</th>\n",
       "      <td>2018-09-25</td>\n",
       "      <td>233.30</td>\n",
       "      <td>236.75</td>\n",
       "      <td>232.00</td>\n",
       "      <td>236.25</td>\n",
       "      <td>236.10</td>\n",
       "      <td>2349368</td>\n",
       "      <td>5503.90</td>\n",
       "    </tr>\n",
       "    <tr>\n",
       "      <th>4</th>\n",
       "      <td>2018-09-24</td>\n",
       "      <td>233.55</td>\n",
       "      <td>239.20</td>\n",
       "      <td>230.75</td>\n",
       "      <td>234.00</td>\n",
       "      <td>233.30</td>\n",
       "      <td>3423509</td>\n",
       "      <td>7999.55</td>\n",
       "    </tr>\n",
       "  </tbody>\n",
       "</table>\n",
       "</div>"
      ],
      "text/plain": [
       "         Date    Open    High     Low    Last   Close  Total Trade Quantity  \\\n",
       "0  2018-09-28  234.05  235.95  230.20  233.50  233.75               3069914   \n",
       "1  2018-09-27  234.55  236.80  231.10  233.80  233.25               5082859   \n",
       "2  2018-09-26  240.00  240.00  232.50  235.00  234.25               2240909   \n",
       "3  2018-09-25  233.30  236.75  232.00  236.25  236.10               2349368   \n",
       "4  2018-09-24  233.55  239.20  230.75  234.00  233.30               3423509   \n",
       "\n",
       "   Turnover (Lacs)  \n",
       "0          7162.35  \n",
       "1         11859.95  \n",
       "2          5248.60  \n",
       "3          5503.90  \n",
       "4          7999.55  "
      ]
     },
     "execution_count": 3,
     "metadata": {},
     "output_type": "execute_result"
    }
   ],
   "source": [
    "df.head()"
   ]
  },
  {
   "cell_type": "markdown",
   "metadata": {},
   "source": [
    "# Short-Analysis"
   ]
  },
  {
   "cell_type": "code",
   "execution_count": 4,
   "metadata": {},
   "outputs": [
    {
     "data": {
      "text/plain": [
       "(2035, 8)"
      ]
     },
     "execution_count": 4,
     "metadata": {},
     "output_type": "execute_result"
    }
   ],
   "source": [
    "df.shape"
   ]
  },
  {
   "cell_type": "code",
   "execution_count": 5,
   "metadata": {},
   "outputs": [
    {
     "data": {
      "text/plain": [
       "Index(['Date', 'Open', 'High', 'Low', 'Last', 'Close', 'Total Trade Quantity',\n",
       "       'Turnover (Lacs)'],\n",
       "      dtype='object')"
      ]
     },
     "execution_count": 5,
     "metadata": {},
     "output_type": "execute_result"
    }
   ],
   "source": [
    "df.columns"
   ]
  },
  {
   "cell_type": "code",
   "execution_count": 6,
   "metadata": {
    "scrolled": true
   },
   "outputs": [
    {
     "name": "stdout",
     "output_type": "stream",
     "text": [
      "<class 'pandas.core.frame.DataFrame'>\n",
      "RangeIndex: 2035 entries, 0 to 2034\n",
      "Data columns (total 8 columns):\n",
      " #   Column                Non-Null Count  Dtype  \n",
      "---  ------                --------------  -----  \n",
      " 0   Date                  2035 non-null   object \n",
      " 1   Open                  2035 non-null   float64\n",
      " 2   High                  2035 non-null   float64\n",
      " 3   Low                   2035 non-null   float64\n",
      " 4   Last                  2035 non-null   float64\n",
      " 5   Close                 2035 non-null   float64\n",
      " 6   Total Trade Quantity  2035 non-null   int64  \n",
      " 7   Turnover (Lacs)       2035 non-null   float64\n",
      "dtypes: float64(6), int64(1), object(1)\n",
      "memory usage: 127.3+ KB\n"
     ]
    }
   ],
   "source": [
    "df.info()"
   ]
  },
  {
   "cell_type": "code",
   "execution_count": 7,
   "metadata": {},
   "outputs": [
    {
     "data": {
      "text/html": [
       "<div>\n",
       "<style scoped>\n",
       "    .dataframe tbody tr th:only-of-type {\n",
       "        vertical-align: middle;\n",
       "    }\n",
       "\n",
       "    .dataframe tbody tr th {\n",
       "        vertical-align: top;\n",
       "    }\n",
       "\n",
       "    .dataframe thead th {\n",
       "        text-align: right;\n",
       "    }\n",
       "</style>\n",
       "<table border=\"1\" class=\"dataframe\">\n",
       "  <thead>\n",
       "    <tr style=\"text-align: right;\">\n",
       "      <th></th>\n",
       "      <th>Open</th>\n",
       "      <th>High</th>\n",
       "      <th>Low</th>\n",
       "      <th>Last</th>\n",
       "      <th>Close</th>\n",
       "      <th>Total Trade Quantity</th>\n",
       "      <th>Turnover (Lacs)</th>\n",
       "    </tr>\n",
       "  </thead>\n",
       "  <tbody>\n",
       "    <tr>\n",
       "      <th>count</th>\n",
       "      <td>2035.000000</td>\n",
       "      <td>2035.000000</td>\n",
       "      <td>2035.000000</td>\n",
       "      <td>2035.000000</td>\n",
       "      <td>2035.00000</td>\n",
       "      <td>2.035000e+03</td>\n",
       "      <td>2035.000000</td>\n",
       "    </tr>\n",
       "    <tr>\n",
       "      <th>mean</th>\n",
       "      <td>149.713735</td>\n",
       "      <td>151.992826</td>\n",
       "      <td>147.293931</td>\n",
       "      <td>149.474251</td>\n",
       "      <td>149.45027</td>\n",
       "      <td>2.335681e+06</td>\n",
       "      <td>3899.980565</td>\n",
       "    </tr>\n",
       "    <tr>\n",
       "      <th>std</th>\n",
       "      <td>48.664509</td>\n",
       "      <td>49.413109</td>\n",
       "      <td>47.931958</td>\n",
       "      <td>48.732570</td>\n",
       "      <td>48.71204</td>\n",
       "      <td>2.091778e+06</td>\n",
       "      <td>4570.767877</td>\n",
       "    </tr>\n",
       "    <tr>\n",
       "      <th>min</th>\n",
       "      <td>81.100000</td>\n",
       "      <td>82.800000</td>\n",
       "      <td>80.000000</td>\n",
       "      <td>81.000000</td>\n",
       "      <td>80.95000</td>\n",
       "      <td>3.961000e+04</td>\n",
       "      <td>37.040000</td>\n",
       "    </tr>\n",
       "    <tr>\n",
       "      <th>25%</th>\n",
       "      <td>120.025000</td>\n",
       "      <td>122.100000</td>\n",
       "      <td>118.300000</td>\n",
       "      <td>120.075000</td>\n",
       "      <td>120.05000</td>\n",
       "      <td>1.146444e+06</td>\n",
       "      <td>1427.460000</td>\n",
       "    </tr>\n",
       "    <tr>\n",
       "      <th>50%</th>\n",
       "      <td>141.500000</td>\n",
       "      <td>143.400000</td>\n",
       "      <td>139.600000</td>\n",
       "      <td>141.100000</td>\n",
       "      <td>141.25000</td>\n",
       "      <td>1.783456e+06</td>\n",
       "      <td>2512.030000</td>\n",
       "    </tr>\n",
       "    <tr>\n",
       "      <th>75%</th>\n",
       "      <td>157.175000</td>\n",
       "      <td>159.400000</td>\n",
       "      <td>155.150000</td>\n",
       "      <td>156.925000</td>\n",
       "      <td>156.90000</td>\n",
       "      <td>2.813594e+06</td>\n",
       "      <td>4539.015000</td>\n",
       "    </tr>\n",
       "    <tr>\n",
       "      <th>max</th>\n",
       "      <td>327.700000</td>\n",
       "      <td>328.750000</td>\n",
       "      <td>321.650000</td>\n",
       "      <td>325.950000</td>\n",
       "      <td>325.75000</td>\n",
       "      <td>2.919102e+07</td>\n",
       "      <td>55755.080000</td>\n",
       "    </tr>\n",
       "  </tbody>\n",
       "</table>\n",
       "</div>"
      ],
      "text/plain": [
       "              Open         High          Low         Last       Close  \\\n",
       "count  2035.000000  2035.000000  2035.000000  2035.000000  2035.00000   \n",
       "mean    149.713735   151.992826   147.293931   149.474251   149.45027   \n",
       "std      48.664509    49.413109    47.931958    48.732570    48.71204   \n",
       "min      81.100000    82.800000    80.000000    81.000000    80.95000   \n",
       "25%     120.025000   122.100000   118.300000   120.075000   120.05000   \n",
       "50%     141.500000   143.400000   139.600000   141.100000   141.25000   \n",
       "75%     157.175000   159.400000   155.150000   156.925000   156.90000   \n",
       "max     327.700000   328.750000   321.650000   325.950000   325.75000   \n",
       "\n",
       "       Total Trade Quantity  Turnover (Lacs)  \n",
       "count          2.035000e+03      2035.000000  \n",
       "mean           2.335681e+06      3899.980565  \n",
       "std            2.091778e+06      4570.767877  \n",
       "min            3.961000e+04        37.040000  \n",
       "25%            1.146444e+06      1427.460000  \n",
       "50%            1.783456e+06      2512.030000  \n",
       "75%            2.813594e+06      4539.015000  \n",
       "max            2.919102e+07     55755.080000  "
      ]
     },
     "execution_count": 7,
     "metadata": {},
     "output_type": "execute_result"
    }
   ],
   "source": [
    "df.describe()"
   ]
  },
  {
   "cell_type": "code",
   "execution_count": 8,
   "metadata": {},
   "outputs": [
    {
     "data": {
      "text/html": [
       "<div>\n",
       "<style scoped>\n",
       "    .dataframe tbody tr th:only-of-type {\n",
       "        vertical-align: middle;\n",
       "    }\n",
       "\n",
       "    .dataframe tbody tr th {\n",
       "        vertical-align: top;\n",
       "    }\n",
       "\n",
       "    .dataframe thead th {\n",
       "        text-align: right;\n",
       "    }\n",
       "</style>\n",
       "<table border=\"1\" class=\"dataframe\">\n",
       "  <thead>\n",
       "    <tr style=\"text-align: right;\">\n",
       "      <th></th>\n",
       "      <th>Open</th>\n",
       "      <th>High</th>\n",
       "      <th>Low</th>\n",
       "      <th>Last</th>\n",
       "      <th>Close</th>\n",
       "      <th>Total Trade Quantity</th>\n",
       "      <th>Turnover (Lacs)</th>\n",
       "    </tr>\n",
       "  </thead>\n",
       "  <tbody>\n",
       "    <tr>\n",
       "      <th>Open</th>\n",
       "      <td>1.000000</td>\n",
       "      <td>0.999015</td>\n",
       "      <td>0.998825</td>\n",
       "      <td>0.997781</td>\n",
       "      <td>0.997840</td>\n",
       "      <td>0.385951</td>\n",
       "      <td>0.612877</td>\n",
       "    </tr>\n",
       "    <tr>\n",
       "      <th>High</th>\n",
       "      <td>0.999015</td>\n",
       "      <td>1.000000</td>\n",
       "      <td>0.998773</td>\n",
       "      <td>0.999155</td>\n",
       "      <td>0.999194</td>\n",
       "      <td>0.406405</td>\n",
       "      <td>0.630589</td>\n",
       "    </tr>\n",
       "    <tr>\n",
       "      <th>Low</th>\n",
       "      <td>0.998825</td>\n",
       "      <td>0.998773</td>\n",
       "      <td>1.000000</td>\n",
       "      <td>0.999051</td>\n",
       "      <td>0.999119</td>\n",
       "      <td>0.380621</td>\n",
       "      <td>0.608502</td>\n",
       "    </tr>\n",
       "    <tr>\n",
       "      <th>Last</th>\n",
       "      <td>0.997781</td>\n",
       "      <td>0.999155</td>\n",
       "      <td>0.999051</td>\n",
       "      <td>1.000000</td>\n",
       "      <td>0.999961</td>\n",
       "      <td>0.399328</td>\n",
       "      <td>0.624584</td>\n",
       "    </tr>\n",
       "    <tr>\n",
       "      <th>Close</th>\n",
       "      <td>0.997840</td>\n",
       "      <td>0.999194</td>\n",
       "      <td>0.999119</td>\n",
       "      <td>0.999961</td>\n",
       "      <td>1.000000</td>\n",
       "      <td>0.398911</td>\n",
       "      <td>0.624213</td>\n",
       "    </tr>\n",
       "    <tr>\n",
       "      <th>Total Trade Quantity</th>\n",
       "      <td>0.385951</td>\n",
       "      <td>0.406405</td>\n",
       "      <td>0.380621</td>\n",
       "      <td>0.399328</td>\n",
       "      <td>0.398911</td>\n",
       "      <td>1.000000</td>\n",
       "      <td>0.926931</td>\n",
       "    </tr>\n",
       "    <tr>\n",
       "      <th>Turnover (Lacs)</th>\n",
       "      <td>0.612877</td>\n",
       "      <td>0.630589</td>\n",
       "      <td>0.608502</td>\n",
       "      <td>0.624584</td>\n",
       "      <td>0.624213</td>\n",
       "      <td>0.926931</td>\n",
       "      <td>1.000000</td>\n",
       "    </tr>\n",
       "  </tbody>\n",
       "</table>\n",
       "</div>"
      ],
      "text/plain": [
       "                          Open      High       Low      Last     Close  \\\n",
       "Open                  1.000000  0.999015  0.998825  0.997781  0.997840   \n",
       "High                  0.999015  1.000000  0.998773  0.999155  0.999194   \n",
       "Low                   0.998825  0.998773  1.000000  0.999051  0.999119   \n",
       "Last                  0.997781  0.999155  0.999051  1.000000  0.999961   \n",
       "Close                 0.997840  0.999194  0.999119  0.999961  1.000000   \n",
       "Total Trade Quantity  0.385951  0.406405  0.380621  0.399328  0.398911   \n",
       "Turnover (Lacs)       0.612877  0.630589  0.608502  0.624584  0.624213   \n",
       "\n",
       "                      Total Trade Quantity  Turnover (Lacs)  \n",
       "Open                              0.385951         0.612877  \n",
       "High                              0.406405         0.630589  \n",
       "Low                               0.380621         0.608502  \n",
       "Last                              0.399328         0.624584  \n",
       "Close                             0.398911         0.624213  \n",
       "Total Trade Quantity              1.000000         0.926931  \n",
       "Turnover (Lacs)                   0.926931         1.000000  "
      ]
     },
     "execution_count": 8,
     "metadata": {},
     "output_type": "execute_result"
    }
   ],
   "source": [
    "df.corr()"
   ]
  },
  {
   "cell_type": "code",
   "execution_count": 9,
   "metadata": {},
   "outputs": [
    {
     "data": {
      "text/plain": [
       "Date                    0\n",
       "Open                    0\n",
       "High                    0\n",
       "Low                     0\n",
       "Last                    0\n",
       "Close                   0\n",
       "Total Trade Quantity    0\n",
       "Turnover (Lacs)         0\n",
       "dtype: int64"
      ]
     },
     "execution_count": 9,
     "metadata": {},
     "output_type": "execute_result"
    }
   ],
   "source": [
    "df.isnull().sum()"
   ]
  },
  {
   "cell_type": "code",
   "execution_count": 10,
   "metadata": {},
   "outputs": [
    {
     "data": {
      "text/plain": [
       "0    233.75\n",
       "1    233.25\n",
       "2    234.25\n",
       "3    236.10\n",
       "4    233.30\n",
       "Name: Close, dtype: float64"
      ]
     },
     "execution_count": 10,
     "metadata": {},
     "output_type": "execute_result"
    }
   ],
   "source": [
    "df1=df.reset_index()['Close']\n",
    "df1.head()"
   ]
  },
  {
   "cell_type": "markdown",
   "metadata": {},
   "source": [
    "# Data Visualization"
   ]
  },
  {
   "cell_type": "code",
   "execution_count": 11,
   "metadata": {},
   "outputs": [
    {
     "data": {
      "text/plain": [
       "[<matplotlib.lines.Line2D at 0x22cd6710a60>]"
      ]
     },
     "execution_count": 11,
     "metadata": {},
     "output_type": "execute_result"
    },
    {
     "data": {
      "image/png": "[encoded data removed]",
      "text/plain": [
       "<Figure size 432x288 with 1 Axes>"
      ]
     },
     "metadata": {
      "needs_background": "light"
     },
     "output_type": "display_data"
    }
   ],
   "source": [
    "import matplotlib.pyplot as plt\n",
    "plt.plot(df1)"
   ]
  },
  {
   "cell_type": "code",
   "execution_count": 12,
   "metadata": {
    "scrolled": true
   },
   "outputs": [
    {
     "data": {
      "image/png": "[encoded data removed]",
      "text/plain": [
       "<Figure size 1080x576 with 6 Axes>"
      ]
     },
     "metadata": {
      "needs_background": "light"
     },
     "output_type": "display_data"
    }
   ],
   "source": [
    "#The figure below show the graph for different parameters like Open, High,etc w.r.t. Time\n",
    "figure,axis = plt.subplots(2,3,figsize=(15,8))\n",
    "cols = list(df.columns[1:])\n",
    "cols.remove('Close')\n",
    "k=0\n",
    "for i in range(2):\n",
    "    for j in range(3):\n",
    "        axis[i,j].plot(df[cols[k]])\n",
    "        axis[i,j].set_title(cols[k])\n",
    "        k+=1\n",
    "plt.show()"
   ]
  },
  {
   "cell_type": "markdown",
   "metadata": {},
   "source": [
    "# Data-Preprocessing"
   ]
  },
  {
   "cell_type": "code",
   "execution_count": 13,
   "metadata": {},
   "outputs": [
    {
     "data": {
      "text/plain": [
       "['Open', 'High', 'Low', 'Total Trade Quantity', 'Turnover (Lacs)']"
      ]
     },
     "execution_count": 13,
     "metadata": {},
     "output_type": "execute_result"
    }
   ],
   "source": [
    "#Selecting the parameters which will be considered for training the model\n",
    "selected_feat = ['Open','High','Low','Total Trade Quantity','Turnover (Lacs)']\n",
    "selected_feat"
   ]
  },
  {
   "cell_type": "raw",
   "metadata": {},
   "source": [
    "Using MinMaxScaler to scale the features in range of [0,1] as LSTM gets affected by large values"
   ]
  },
  {
   "cell_type": "code",
   "execution_count": 14,
   "metadata": {
    "scrolled": true
   },
   "outputs": [
    {
     "data": {
      "text/html": [
       "<div>\n",
       "<style scoped>\n",
       "    .dataframe tbody tr th:only-of-type {\n",
       "        vertical-align: middle;\n",
       "    }\n",
       "\n",
       "    .dataframe tbody tr th {\n",
       "        vertical-align: top;\n",
       "    }\n",
       "\n",
       "    .dataframe thead th {\n",
       "        text-align: right;\n",
       "    }\n",
       "</style>\n",
       "<table border=\"1\" class=\"dataframe\">\n",
       "  <thead>\n",
       "    <tr style=\"text-align: right;\">\n",
       "      <th></th>\n",
       "      <th>Open</th>\n",
       "      <th>High</th>\n",
       "      <th>Low</th>\n",
       "      <th>Total Trade Quantity</th>\n",
       "      <th>Turnover (Lacs)</th>\n",
       "    </tr>\n",
       "  </thead>\n",
       "  <tbody>\n",
       "    <tr>\n",
       "      <th>0</th>\n",
       "      <td>0.620235</td>\n",
       "      <td>0.622688</td>\n",
       "      <td>0.621560</td>\n",
       "      <td>0.103951</td>\n",
       "      <td>0.127882</td>\n",
       "    </tr>\n",
       "    <tr>\n",
       "      <th>1</th>\n",
       "      <td>0.622263</td>\n",
       "      <td>0.626144</td>\n",
       "      <td>0.625285</td>\n",
       "      <td>0.173002</td>\n",
       "      <td>0.212192</td>\n",
       "    </tr>\n",
       "    <tr>\n",
       "      <th>2</th>\n",
       "      <td>0.644363</td>\n",
       "      <td>0.639154</td>\n",
       "      <td>0.631078</td>\n",
       "      <td>0.075513</td>\n",
       "      <td>0.093535</td>\n",
       "    </tr>\n",
       "    <tr>\n",
       "      <th>3</th>\n",
       "      <td>0.617194</td>\n",
       "      <td>0.625940</td>\n",
       "      <td>0.629009</td>\n",
       "      <td>0.079233</td>\n",
       "      <td>0.098117</td>\n",
       "    </tr>\n",
       "    <tr>\n",
       "      <th>4</th>\n",
       "      <td>0.618208</td>\n",
       "      <td>0.635902</td>\n",
       "      <td>0.623836</td>\n",
       "      <td>0.116080</td>\n",
       "      <td>0.142907</td>\n",
       "    </tr>\n",
       "  </tbody>\n",
       "</table>\n",
       "</div>"
      ],
      "text/plain": [
       "       Open      High       Low  Total Trade Quantity  Turnover (Lacs)\n",
       "0  0.620235  0.622688  0.621560              0.103951         0.127882\n",
       "1  0.622263  0.626144  0.625285              0.173002         0.212192\n",
       "2  0.644363  0.639154  0.631078              0.075513         0.093535\n",
       "3  0.617194  0.625940  0.629009              0.079233         0.098117\n",
       "4  0.618208  0.635902  0.623836              0.116080         0.142907"
      ]
     },
     "execution_count": 14,
     "metadata": {},
     "output_type": "execute_result"
    }
   ],
   "source": [
    "from sklearn.preprocessing import MinMaxScaler\n",
    "scaler1 = MinMaxScaler(feature_range=(0,1))\n",
    "df1 = scaler1.fit_transform(df[selected_feat])\n",
    "df1 = pd.DataFrame(df1,columns=selected_feat)\n",
    "df1.head()"
   ]
  },
  {
   "cell_type": "code",
   "execution_count": 15,
   "metadata": {
    "scrolled": false
   },
   "outputs": [
    {
     "data": {
      "text/html": [
       "<div>\n",
       "<style scoped>\n",
       "    .dataframe tbody tr th:only-of-type {\n",
       "        vertical-align: middle;\n",
       "    }\n",
       "\n",
       "    .dataframe tbody tr th {\n",
       "        vertical-align: top;\n",
       "    }\n",
       "\n",
       "    .dataframe thead th {\n",
       "        text-align: right;\n",
       "    }\n",
       "</style>\n",
       "<table border=\"1\" class=\"dataframe\">\n",
       "  <thead>\n",
       "    <tr style=\"text-align: right;\">\n",
       "      <th></th>\n",
       "      <th>Close</th>\n",
       "    </tr>\n",
       "  </thead>\n",
       "  <tbody>\n",
       "    <tr>\n",
       "      <th>0</th>\n",
       "      <td>0.624183</td>\n",
       "    </tr>\n",
       "    <tr>\n",
       "      <th>1</th>\n",
       "      <td>0.622141</td>\n",
       "    </tr>\n",
       "    <tr>\n",
       "      <th>2</th>\n",
       "      <td>0.626225</td>\n",
       "    </tr>\n",
       "    <tr>\n",
       "      <th>3</th>\n",
       "      <td>0.633783</td>\n",
       "    </tr>\n",
       "    <tr>\n",
       "      <th>4</th>\n",
       "      <td>0.622345</td>\n",
       "    </tr>\n",
       "  </tbody>\n",
       "</table>\n",
       "</div>"
      ],
      "text/plain": [
       "      Close\n",
       "0  0.624183\n",
       "1  0.622141\n",
       "2  0.626225\n",
       "3  0.633783\n",
       "4  0.622345"
      ]
     },
     "execution_count": 15,
     "metadata": {},
     "output_type": "execute_result"
    }
   ],
   "source": [
    "scaler2 = MinMaxScaler(feature_range=(0,1))\n",
    "df2 = scaler2.fit_transform(np.array(df['Close']).reshape(-1,1))\n",
    "df2 = pd.DataFrame(df2,columns=['Close'])\n",
    "# df2 = pd.DataFrame(df['Close'])\n",
    "df2.head()"
   ]
  },
  {
   "cell_type": "raw",
   "metadata": {},
   "source": [
    "Using TimeSeriesSplit to split the data into training and test data"
   ]
  },
  {
   "cell_type": "code",
   "execution_count": 16,
   "metadata": {},
   "outputs": [],
   "source": [
    "from sklearn.model_selection import TimeSeriesSplit\n",
    "tss = TimeSeriesSplit(n_splits = 15)\n",
    "for train_index, test_index in tss.split(df1):\n",
    "        X_train, X_test = df1[:len(train_index)], df1[len(train_index): (len(train_index)+len(test_index))]\n",
    "        y_train, y_test = df2[:len(train_index)].values.ravel(), df2[len(train_index): (len(train_index)+len(test_index))].values.ravel()"
   ]
  },
  {
   "cell_type": "code",
   "execution_count": 17,
   "metadata": {},
   "outputs": [
    {
     "data": {
      "text/plain": [
       "((1908, 5), (127, 5))"
      ]
     },
     "execution_count": 17,
     "metadata": {},
     "output_type": "execute_result"
    }
   ],
   "source": [
    "Xtrain = np.array(X_train)\n",
    "Xtest = np.array(X_test)\n",
    "X_train.shape,X_test.shape"
   ]
  },
  {
   "cell_type": "code",
   "execution_count": 18,
   "metadata": {},
   "outputs": [
    {
     "data": {
      "text/plain": [
       "((1908, 1, 5), (127, 1, 5))"
      ]
     },
     "execution_count": 18,
     "metadata": {},
     "output_type": "execute_result"
    }
   ],
   "source": [
    "X_train = Xtrain.reshape(X_train.shape[0],1,X_train.shape[1])\n",
    "X_test = Xtest.reshape(X_test.shape[0],1,X_test.shape[1])\n",
    "X_train.shape,X_test.shape"
   ]
  },
  {
   "cell_type": "markdown",
   "metadata": {},
   "source": [
    "# Training Model Using LSTM"
   ]
  },
  {
   "cell_type": "code",
   "execution_count": 19,
   "metadata": {},
   "outputs": [],
   "source": [
    "#Importing the Libraries for model training\n",
    "from keras.models import Sequential\n",
    "from keras.layers import Dense\n",
    "from keras.layers import LSTM"
   ]
  },
  {
   "cell_type": "code",
   "execution_count": 20,
   "metadata": {},
   "outputs": [],
   "source": [
    "#Building the Model\n",
    "model = Sequential()\n",
    "model.add(LSTM(20, return_sequences = False, input_shape = (1,Xtrain.shape[1])))\n",
    "model.add(Dense(1))\n",
    "model.compile(loss = 'mean_squared_error', optimizer = 'adam')"
   ]
  },
  {
   "cell_type": "code",
   "execution_count": 21,
   "metadata": {
    "scrolled": true
   },
   "outputs": [
    {
     "name": "stdout",
     "output_type": "stream",
     "text": [
      "Model: \"sequential\"\n",
      "_________________________________________________________________\n",
      "Layer (type)                 Output Shape              Param #   \n",
      "=================================================================\n",
      "lstm (LSTM)                  (None, 20)                2080      \n",
      "_________________________________________________________________\n",
      "dense (Dense)                (None, 1)                 21        \n",
      "=================================================================\n",
      "Total params: 2,101\n",
      "Trainable params: 2,101\n",
      "Non-trainable params: 0\n",
      "_________________________________________________________________\n"
     ]
    }
   ],
   "source": [
    "model.summary()"
   ]
  },
  {
   "cell_type": "code",
   "execution_count": 22,
   "metadata": {
    "scrolled": true
   },
   "outputs": [
    {
     "name": "stdout",
     "output_type": "stream",
     "text": [
      "Epoch 1/100\n",
      "30/30 [==============================] - 2s 2ms/step - loss: 0.0808\n",
      "Epoch 2/100\n",
      "30/30 [==============================] - 0s 1ms/step - loss: 0.0342\n",
      "Epoch 3/100\n",
      "30/30 [==============================] - 0s 2ms/step - loss: 0.0127\n",
      "Epoch 4/100\n",
      "30/30 [==============================] - 0s 1ms/step - loss: 0.0074\n",
      "Epoch 5/100\n",
      "30/30 [==============================] - 0s 1ms/step - loss: 0.0052\n",
      "Epoch 6/100\n",
      "30/30 [==============================] - 0s 1ms/step - loss: 0.0036\n",
      "Epoch 7/100\n",
      "30/30 [==============================] - 0s 1ms/step - loss: 0.0023\n",
      "Epoch 8/100\n",
      "30/30 [==============================] - 0s 2ms/step - loss: 0.0014\n",
      "Epoch 9/100\n",
      "30/30 [==============================] - 0s 1ms/step - loss: 9.0385e-04\n",
      "Epoch 10/100\n",
      "30/30 [==============================] - 0s 1ms/step - loss: 5.9612e-04\n",
      "Epoch 11/100\n",
      "30/30 [==============================] - 0s 1ms/step - loss: 4.3940e-04\n",
      "Epoch 12/100\n",
      "30/30 [==============================] - 0s 1ms/step - loss: 3.6347e-04\n",
      "Epoch 13/100\n",
      "30/30 [==============================] - 0s 1ms/step - loss: 3.2161e-04\n",
      "Epoch 14/100\n",
      "30/30 [==============================] - 0s 2ms/step - loss: 2.9597e-04\n",
      "Epoch 15/100\n",
      "30/30 [==============================] - 0s 1ms/step - loss: 2.7842e-04\n",
      "Epoch 16/100\n",
      "30/30 [==============================] - 0s 1ms/step - loss: 2.6337e-04\n",
      "Epoch 17/100\n",
      "30/30 [==============================] - 0s 1ms/step - loss: 2.5079e-04\n",
      "Epoch 18/100\n",
      "30/30 [==============================] - 0s 1ms/step - loss: 2.4111e-04\n",
      "Epoch 19/100\n",
      "30/30 [==============================] - 0s 1ms/step - loss: 2.3132e-04\n",
      "Epoch 20/100\n",
      "30/30 [==============================] - 0s 1ms/step - loss: 2.2302e-04\n",
      "Epoch 21/100\n",
      "30/30 [==============================] - 0s 1ms/step - loss: 2.1507e-04\n",
      "Epoch 22/100\n",
      "30/30 [==============================] - 0s 1ms/step - loss: 2.0812e-04\n",
      "Epoch 23/100\n",
      "30/30 [==============================] - 0s 1ms/step - loss: 2.0087e-04\n",
      "Epoch 24/100\n",
      "30/30 [==============================] - 0s 1ms/step - loss: 1.9367e-04\n",
      "Epoch 25/100\n",
      "30/30 [==============================] - 0s 1ms/step - loss: 1.8728e-04\n",
      "Epoch 26/100\n",
      "30/30 [==============================] - 0s 1ms/step - loss: 1.8078e-04\n",
      "Epoch 27/100\n",
      "30/30 [==============================] - 0s 1ms/step - loss: 1.7326e-04\n",
      "Epoch 28/100\n",
      "30/30 [==============================] - 0s 5ms/step - loss: 1.6816e-04\n",
      "Epoch 29/100\n",
      "30/30 [==============================] - 0s 2ms/step - loss: 1.6077e-04\n",
      "Epoch 30/100\n",
      "30/30 [==============================] - 0s 1ms/step - loss: 1.5566e-04\n",
      "Epoch 31/100\n",
      "30/30 [==============================] - 0s 1ms/step - loss: 1.4938e-04\n",
      "Epoch 32/100\n",
      "30/30 [==============================] - 0s 970us/step - loss: 1.4270e-04\n",
      "Epoch 33/100\n",
      "30/30 [==============================] - 0s 1ms/step - loss: 1.3734e-04\n",
      "Epoch 34/100\n",
      "30/30 [==============================] - 0s 884us/step - loss: 1.3281e-04\n",
      "Epoch 35/100\n",
      "30/30 [==============================] - 0s 1ms/step - loss: 1.2701e-04\n",
      "Epoch 36/100\n",
      "30/30 [==============================] - 0s 1ms/step - loss: 1.2149e-04\n",
      "Epoch 37/100\n",
      "30/30 [==============================] - 0s 1ms/step - loss: 1.1684e-04\n",
      "Epoch 38/100\n",
      "30/30 [==============================] - 0s 934us/step - loss: 1.1230e-04\n",
      "Epoch 39/100\n",
      "30/30 [==============================] - 0s 1ms/step - loss: 1.0870e-04\n",
      "Epoch 40/100\n",
      "30/30 [==============================] - 0s 1ms/step - loss: 1.0525e-04\n",
      "Epoch 41/100\n",
      "30/30 [==============================] - 0s 1ms/step - loss: 1.0126e-04\n",
      "Epoch 42/100\n",
      "30/30 [==============================] - 0s 1ms/step - loss: 9.8680e-05\n",
      "Epoch 43/100\n",
      "30/30 [==============================] - 0s 1ms/step - loss: 9.5117e-05\n",
      "Epoch 44/100\n",
      "30/30 [==============================] - 0s 946us/step - loss: 9.2891e-05\n",
      "Epoch 45/100\n",
      "30/30 [==============================] - 0s 1ms/step - loss: 9.0212e-05\n",
      "Epoch 46/100\n",
      "30/30 [==============================] - 0s 1ms/step - loss: 8.8178e-05\n",
      "Epoch 47/100\n",
      "30/30 [==============================] - 0s 1ms/step - loss: 8.6397e-05\n",
      "Epoch 48/100\n",
      "30/30 [==============================] - 0s 1ms/step - loss: 8.4696e-05\n",
      "Epoch 49/100\n",
      "30/30 [==============================] - ETA: 0s - loss: 1.4930e-0 - 0s 1ms/step - loss: 8.3221e-05\n",
      "Epoch 50/100\n",
      "30/30 [==============================] - 0s 1ms/step - loss: 8.2459e-05\n",
      "Epoch 51/100\n",
      "30/30 [==============================] - 0s 1ms/step - loss: 8.1034e-05\n",
      "Epoch 52/100\n",
      "30/30 [==============================] - 0s 863us/step - loss: 8.0520e-05\n",
      "Epoch 53/100\n",
      "30/30 [==============================] - 0s 1ms/step - loss: 7.9953e-05\n",
      "Epoch 54/100\n",
      "30/30 [==============================] - 0s 1ms/step - loss: 7.9471e-05\n",
      "Epoch 55/100\n",
      "30/30 [==============================] - 0s 1ms/step - loss: 7.8648e-05\n",
      "Epoch 56/100\n",
      "30/30 [==============================] - 0s 1ms/step - loss: 7.7779e-05\n",
      "Epoch 57/100\n",
      "30/30 [==============================] - 0s 1ms/step - loss: 7.7455e-05\n",
      "Epoch 58/100\n",
      "30/30 [==============================] - 0s 1ms/step - loss: 7.7566e-05\n",
      "Epoch 59/100\n",
      "30/30 [==============================] - 0s 884us/step - loss: 7.7318e-05\n",
      "Epoch 60/100\n",
      "30/30 [==============================] - 0s 1ms/step - loss: 7.6753e-05\n",
      "Epoch 61/100\n",
      "30/30 [==============================] - 0s 884us/step - loss: 7.6329e-05\n",
      "Epoch 62/100\n",
      "30/30 [==============================] - 0s 1ms/step - loss: 7.6099e-05\n",
      "Epoch 63/100\n",
      "30/30 [==============================] - 0s 1ms/step - loss: 7.5855e-05\n",
      "Epoch 64/100\n",
      "30/30 [==============================] - 0s 1ms/step - loss: 7.6151e-05\n",
      "Epoch 65/100\n",
      "30/30 [==============================] - 0s 1ms/step - loss: 7.5794e-05\n",
      "Epoch 66/100\n",
      "30/30 [==============================] - 0s 1ms/step - loss: 7.5809e-05\n",
      "Epoch 67/100\n",
      "30/30 [==============================] - 0s 1ms/step - loss: 7.6000e-05\n",
      "Epoch 68/100\n",
      "30/30 [==============================] - 0s 1ms/step - loss: 7.6002e-05\n",
      "Epoch 69/100\n",
      "30/30 [==============================] - 0s 1ms/step - loss: 7.5907e-05\n",
      "Epoch 70/100\n",
      "30/30 [==============================] - 0s 1ms/step - loss: 7.5353e-05\n",
      "Epoch 71/100\n",
      "30/30 [==============================] - 0s 895us/step - loss: 7.5086e-05\n",
      "Epoch 72/100\n",
      "30/30 [==============================] - 0s 1ms/step - loss: 7.4717e-05\n",
      "Epoch 73/100\n",
      "30/30 [==============================] - 0s 1ms/step - loss: 7.4454e-05\n",
      "Epoch 74/100\n",
      "30/30 [==============================] - 0s 1ms/step - loss: 7.5314e-05\n",
      "Epoch 75/100\n",
      "30/30 [==============================] - 0s 1ms/step - loss: 7.4666e-05\n",
      "Epoch 76/100\n",
      "30/30 [==============================] - 0s 1ms/step - loss: 7.4044e-05\n",
      "Epoch 77/100\n",
      "30/30 [==============================] - 0s 1ms/step - loss: 7.4124e-05\n",
      "Epoch 78/100\n",
      "30/30 [==============================] - 0s 1ms/step - loss: 7.4053e-05\n",
      "Epoch 79/100\n",
      "30/30 [==============================] - 0s 1ms/step - loss: 7.3899e-05\n",
      "Epoch 80/100\n",
      "30/30 [==============================] - 0s 1ms/step - loss: 7.4322e-05\n",
      "Epoch 81/100\n",
      "30/30 [==============================] - 0s 1ms/step - loss: 7.3979e-05\n",
      "Epoch 82/100\n",
      "30/30 [==============================] - 0s 1ms/step - loss: 7.3827e-05\n",
      "Epoch 83/100\n",
      "30/30 [==============================] - 0s 1ms/step - loss: 7.3465e-05\n",
      "Epoch 84/100\n",
      "30/30 [==============================] - 0s 881us/step - loss: 7.3113e-05\n",
      "Epoch 85/100\n",
      "30/30 [==============================] - 0s 1ms/step - loss: 7.4130e-05\n",
      "Epoch 86/100\n",
      "30/30 [==============================] - 0s 1ms/step - loss: 7.3828e-05\n",
      "Epoch 87/100\n",
      "30/30 [==============================] - 0s 1ms/step - loss: 7.2918e-05\n",
      "Epoch 88/100\n",
      "30/30 [==============================] - 0s 865us/step - loss: 7.3485e-05\n",
      "Epoch 89/100\n",
      "30/30 [==============================] - 0s 1ms/step - loss: 7.2726e-05\n",
      "Epoch 90/100\n",
      "30/30 [==============================] - 0s 1ms/step - loss: 7.2692e-05\n",
      "Epoch 91/100\n",
      "30/30 [==============================] - 0s 990us/step - loss: 7.2376e-05\n",
      "Epoch 92/100\n",
      "30/30 [==============================] - 0s 1ms/step - loss: 7.2733e-05\n",
      "Epoch 93/100\n",
      "30/30 [==============================] - 0s 1ms/step - loss: 7.2664e-05\n",
      "Epoch 94/100\n",
      "30/30 [==============================] - 0s 1ms/step - loss: 7.2224e-05\n",
      "Epoch 95/100\n",
      "30/30 [==============================] - 0s 1ms/step - loss: 7.2595e-05\n",
      "Epoch 96/100\n",
      "30/30 [==============================] - 0s 1ms/step - loss: 7.2381e-05\n",
      "Epoch 97/100\n"
     ]
    },
    {
     "name": "stdout",
     "output_type": "stream",
     "text": [
      "30/30 [==============================] - 0s 1ms/step - loss: 7.1517e-05\n",
      "Epoch 98/100\n",
      "30/30 [==============================] - 0s 1ms/step - loss: 7.2824e-05\n",
      "Epoch 99/100\n",
      "30/30 [==============================] - 0s 1ms/step - loss: 7.1143e-05\n",
      "Epoch 100/100\n",
      "30/30 [==============================] - 0s 934us/step - loss: 7.1599e-05\n"
     ]
    },
    {
     "data": {
      "text/plain": [
       "<tensorflow.python.keras.callbacks.History at 0x22cde9e1340>"
      ]
     },
     "execution_count": 22,
     "metadata": {},
     "output_type": "execute_result"
    }
   ],
   "source": [
    "model.fit(X_train, y_train, epochs = 100, batch_size = 64, verbose = 1) #training the model"
   ]
  },
  {
   "cell_type": "markdown",
   "metadata": {},
   "source": [
    "# Predicting Data Using LSTM Model"
   ]
  },
  {
   "cell_type": "code",
   "execution_count": 23,
   "metadata": {},
   "outputs": [
    {
     "data": {
      "text/plain": [
       "array([[0.10004738],\n",
       "       [0.10067587],\n",
       "       [0.10296878],\n",
       "       [0.09212758],\n",
       "       [0.08853775],\n",
       "       [0.09355056],\n",
       "       [0.10564114],\n",
       "       [0.12081941],\n",
       "       [0.12569162],\n",
       "       [0.12819116],\n",
       "       [0.12807472],\n",
       "       [0.11707301],\n",
       "       [0.10999075],\n",
       "       [0.11525642],\n",
       "       [0.11730906],\n",
       "       [0.11705256],\n",
       "       [0.12591161],\n",
       "       [0.12850878],\n",
       "       [0.1312711 ],\n",
       "       [0.13895614],\n",
       "       [0.14338948],\n",
       "       [0.1366646 ],\n",
       "       [0.13458985],\n",
       "       [0.13667405],\n",
       "       [0.13184376],\n",
       "       [0.12941277],\n",
       "       [0.12024944],\n",
       "       [0.13349824],\n",
       "       [0.13568926],\n",
       "       [0.13666347],\n",
       "       [0.13364427],\n",
       "       [0.13636476],\n",
       "       [0.14102902],\n",
       "       [0.13419726],\n",
       "       [0.12779102],\n",
       "       [0.12724523],\n",
       "       [0.11816259],\n",
       "       [0.13772959],\n",
       "       [0.14781033],\n",
       "       [0.14495823],\n",
       "       [0.15457676],\n",
       "       [0.16030325],\n",
       "       [0.1590931 ],\n",
       "       [0.17246316],\n",
       "       [0.17681931],\n",
       "       [0.18702392],\n",
       "       [0.20386337],\n",
       "       [0.19761886],\n",
       "       [0.18225156],\n",
       "       [0.1805092 ],\n",
       "       [0.1891938 ],\n",
       "       [0.17532703],\n",
       "       [0.17933823],\n",
       "       [0.17855978],\n",
       "       [0.18162279],\n",
       "       [0.18029366],\n",
       "       [0.1928076 ],\n",
       "       [0.18875939],\n",
       "       [0.19122632],\n",
       "       [0.19536717],\n",
       "       [0.20043857],\n",
       "       [0.19719501],\n",
       "       [0.19547705],\n",
       "       [0.20131035],\n",
       "       [0.19449   ],\n",
       "       [0.20887494],\n",
       "       [0.21567579],\n",
       "       [0.20833988],\n",
       "       [0.21211952],\n",
       "       [0.21628188],\n",
       "       [0.21444206],\n",
       "       [0.21578902],\n",
       "       [0.19135037],\n",
       "       [0.17987795],\n",
       "       [0.1744841 ],\n",
       "       [0.1663569 ],\n",
       "       [0.16279337],\n",
       "       [0.16981488],\n",
       "       [0.17391334],\n",
       "       [0.17932163],\n",
       "       [0.17750713],\n",
       "       [0.16595957],\n",
       "       [0.165647  ],\n",
       "       [0.17263135],\n",
       "       [0.17030741],\n",
       "       [0.17130084],\n",
       "       [0.17140342],\n",
       "       [0.17677453],\n",
       "       [0.18192378],\n",
       "       [0.18756405],\n",
       "       [0.18982829],\n",
       "       [0.18922263],\n",
       "       [0.17909144],\n",
       "       [0.17134   ],\n",
       "       [0.16830303],\n",
       "       [0.17127116],\n",
       "       [0.16548195],\n",
       "       [0.1509051 ],\n",
       "       [0.1505854 ],\n",
       "       [0.15188403],\n",
       "       [0.15002684],\n",
       "       [0.14474532],\n",
       "       [0.15079044],\n",
       "       [0.13886376],\n",
       "       [0.12580627],\n",
       "       [0.12272157],\n",
       "       [0.11669481],\n",
       "       [0.12251671],\n",
       "       [0.13411756],\n",
       "       [0.13366804],\n",
       "       [0.13002181],\n",
       "       [0.13265792],\n",
       "       [0.12880404],\n",
       "       [0.1276229 ],\n",
       "       [0.13142069],\n",
       "       [0.14063509],\n",
       "       [0.14852433],\n",
       "       [0.15195893],\n",
       "       [0.1468374 ],\n",
       "       [0.14353615],\n",
       "       [0.1432225 ],\n",
       "       [0.1518651 ],\n",
       "       [0.14349027],\n",
       "       [0.154793  ],\n",
       "       [0.16186431],\n",
       "       [0.16035008],\n",
       "       [0.16513142]], dtype=float32)"
      ]
     },
     "execution_count": 23,
     "metadata": {},
     "output_type": "execute_result"
    }
   ],
   "source": [
    "#Predicting the test values using the testing values\n",
    "y_pred = model.predict(X_test)\n",
    "y_pred"
   ]
  },
  {
   "cell_type": "code",
   "execution_count": 24,
   "metadata": {},
   "outputs": [
    {
     "data": {
      "image/png": "[encoded data removed]",
      "text/plain": [
       "<Figure size 432x288 with 1 Axes>"
      ]
     },
     "metadata": {
      "needs_background": "light"
     },
     "output_type": "display_data"
    }
   ],
   "source": [
    "#Comparing the test and predicted values\n",
    "plt.plot(y_test, label = 'Test Value')\n",
    "plt.plot(y_pred, label = 'Predicted value')\n",
    "plt.title('Comparision of Test and Predicted Values')\n",
    "plt.xlabel('Time')\n",
    "plt.ylabel('Price (Rs)')\n",
    "plt.legend()\n",
    "plt.show()"
   ]
  },
  {
   "cell_type": "code",
   "execution_count": null,
   "metadata": {},
   "outputs": [],
   "source": []
  }
 ],
 "metadata": {
  "kernelspec": {
   "display_name": "Python 3 (ipykernel)",
   "language": "python",
   "name": "python3"
  },
  "language_info": {
   "codemirror_mode": {
    "name": "ipython",
    "version": 3
   },
   "file_extension": ".py",
   "mimetype": "text/x-python",
   "name": "python",
   "nbconvert_exporter": "python",
   "pygments_lexer": "ipython3",
   "version": "3.9.7"
  }
 },
 "nbformat": 4,
 "nbformat_minor": 4
}
